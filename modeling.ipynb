{
 "cells": [
  {
   "cell_type": "markdown",
   "metadata": {},
   "source": [
    "Load Packages"
   ]
  },
  {
   "cell_type": "code",
   "execution_count": 214,
   "metadata": {},
   "outputs": [],
   "source": [
    "import math\n",
    "import numpy as np\n",
    "import pandas as pd\n",
    "import seaborn as sns\n",
    "\n",
    "from sklearn import datasets\n",
    "from sklearn.model_selection import train_test_split\n",
    "from sklearn.linear_model import LinearRegression\n",
    "from sklearn.decomposition import PCA\n",
    "from sklearn.metrics import mean_squared_error, mean_absolute_error, r2_score, SCORERS\n",
    "from sklearn.model_selection import cross_validate, cross_val_score\n",
    "from sklearn.preprocessing import StandardScaler\n",
    "\n",
    "import matplotlib.pyplot as plt\n",
    "\n",
    "import statsmodels.api as sm\n"
   ]
  },
  {
   "cell_type": "code",
   "execution_count": 215,
   "metadata": {},
   "outputs": [],
   "source": [
    "#Load data\n",
    "df = pd.read_pickle(\"clean_training.pkl\")"
   ]
  },
  {
   "cell_type": "code",
   "execution_count": 216,
   "metadata": {},
   "outputs": [
    {
     "data": {
      "text/html": [
       "<div>\n",
       "<style scoped>\n",
       "    .dataframe tbody tr th:only-of-type {\n",
       "        vertical-align: middle;\n",
       "    }\n",
       "\n",
       "    .dataframe tbody tr th {\n",
       "        vertical-align: top;\n",
       "    }\n",
       "\n",
       "    .dataframe thead th {\n",
       "        text-align: right;\n",
       "    }\n",
       "</style>\n",
       "<table border=\"1\" class=\"dataframe\">\n",
       "  <thead>\n",
       "    <tr style=\"text-align: right;\">\n",
       "      <th></th>\n",
       "      <th>Rider_id</th>\n",
       "      <th>No_Of_Orders</th>\n",
       "      <th>Age</th>\n",
       "      <th>Average_Rating</th>\n",
       "      <th>No_of_Ratings</th>\n",
       "      <th>Platform_type</th>\n",
       "      <th>is_business</th>\n",
       "      <th>Pickup_weekday</th>\n",
       "      <th>Pickup_time</th>\n",
       "      <th>Distance</th>\n",
       "      <th>Temperature</th>\n",
       "      <th>Travel_time</th>\n",
       "    </tr>\n",
       "  </thead>\n",
       "  <tbody>\n",
       "    <tr>\n",
       "      <th>0</th>\n",
       "      <td>Rider_Id_432</td>\n",
       "      <td>1637</td>\n",
       "      <td>1309</td>\n",
       "      <td>13.8</td>\n",
       "      <td>549</td>\n",
       "      <td>3</td>\n",
       "      <td>True</td>\n",
       "      <td>5</td>\n",
       "      <td>37650</td>\n",
       "      <td>4</td>\n",
       "      <td>20.400000</td>\n",
       "      <td>745</td>\n",
       "    </tr>\n",
       "    <tr>\n",
       "      <th>1</th>\n",
       "      <td>Rider_Id_856</td>\n",
       "      <td>396</td>\n",
       "      <td>339</td>\n",
       "      <td>13.6</td>\n",
       "      <td>69</td>\n",
       "      <td>3</td>\n",
       "      <td>False</td>\n",
       "      <td>5</td>\n",
       "      <td>42249</td>\n",
       "      <td>16</td>\n",
       "      <td>26.400000</td>\n",
       "      <td>1993</td>\n",
       "    </tr>\n",
       "    <tr>\n",
       "      <th>2</th>\n",
       "      <td>Rider_Id_155</td>\n",
       "      <td>1023</td>\n",
       "      <td>242</td>\n",
       "      <td>12.5</td>\n",
       "      <td>114</td>\n",
       "      <td>3</td>\n",
       "      <td>True</td>\n",
       "      <td>2</td>\n",
       "      <td>46383</td>\n",
       "      <td>3</td>\n",
       "      <td>23.258889</td>\n",
       "      <td>455</td>\n",
       "    </tr>\n",
       "    <tr>\n",
       "      <th>3</th>\n",
       "      <td>Rider_Id_855</td>\n",
       "      <td>886</td>\n",
       "      <td>283</td>\n",
       "      <td>14.5</td>\n",
       "      <td>113</td>\n",
       "      <td>3</td>\n",
       "      <td>True</td>\n",
       "      <td>5</td>\n",
       "      <td>34986</td>\n",
       "      <td>9</td>\n",
       "      <td>19.200000</td>\n",
       "      <td>1341</td>\n",
       "    </tr>\n",
       "    <tr>\n",
       "      <th>4</th>\n",
       "      <td>Rider_Id_770</td>\n",
       "      <td>2311</td>\n",
       "      <td>872</td>\n",
       "      <td>14.1</td>\n",
       "      <td>533</td>\n",
       "      <td>1</td>\n",
       "      <td>False</td>\n",
       "      <td>1</td>\n",
       "      <td>36323</td>\n",
       "      <td>9</td>\n",
       "      <td>15.400000</td>\n",
       "      <td>1214</td>\n",
       "    </tr>\n",
       "    <tr>\n",
       "      <th>...</th>\n",
       "      <td>...</td>\n",
       "      <td>...</td>\n",
       "      <td>...</td>\n",
       "      <td>...</td>\n",
       "      <td>...</td>\n",
       "      <td>...</td>\n",
       "      <td>...</td>\n",
       "      <td>...</td>\n",
       "      <td>...</td>\n",
       "      <td>...</td>\n",
       "      <td>...</td>\n",
       "      <td>...</td>\n",
       "    </tr>\n",
       "    <tr>\n",
       "      <th>21196</th>\n",
       "      <td>Rider_Id_953</td>\n",
       "      <td>1270</td>\n",
       "      <td>367</td>\n",
       "      <td>14.4</td>\n",
       "      <td>131</td>\n",
       "      <td>3</td>\n",
       "      <td>False</td>\n",
       "      <td>3</td>\n",
       "      <td>58808</td>\n",
       "      <td>3</td>\n",
       "      <td>28.600000</td>\n",
       "      <td>9</td>\n",
       "    </tr>\n",
       "    <tr>\n",
       "      <th>21197</th>\n",
       "      <td>Rider_Id_155</td>\n",
       "      <td>1023</td>\n",
       "      <td>242</td>\n",
       "      <td>12.5</td>\n",
       "      <td>114</td>\n",
       "      <td>3</td>\n",
       "      <td>True</td>\n",
       "      <td>6</td>\n",
       "      <td>38007</td>\n",
       "      <td>7</td>\n",
       "      <td>26.000000</td>\n",
       "      <td>770</td>\n",
       "    </tr>\n",
       "    <tr>\n",
       "      <th>21198</th>\n",
       "      <td>Rider_Id_697</td>\n",
       "      <td>314</td>\n",
       "      <td>473</td>\n",
       "      <td>13.8</td>\n",
       "      <td>29</td>\n",
       "      <td>3</td>\n",
       "      <td>True</td>\n",
       "      <td>4</td>\n",
       "      <td>64252</td>\n",
       "      <td>20</td>\n",
       "      <td>29.200000</td>\n",
       "      <td>2953</td>\n",
       "    </tr>\n",
       "    <tr>\n",
       "      <th>21199</th>\n",
       "      <td>Rider_Id_347</td>\n",
       "      <td>2451</td>\n",
       "      <td>1821</td>\n",
       "      <td>14.0</td>\n",
       "      <td>1101</td>\n",
       "      <td>1</td>\n",
       "      <td>False</td>\n",
       "      <td>3</td>\n",
       "      <td>35115</td>\n",
       "      <td>13</td>\n",
       "      <td>15.000000</td>\n",
       "      <td>1380</td>\n",
       "    </tr>\n",
       "    <tr>\n",
       "      <th>21200</th>\n",
       "      <td>Rider_Id_177</td>\n",
       "      <td>526</td>\n",
       "      <td>286</td>\n",
       "      <td>13.6</td>\n",
       "      <td>70</td>\n",
       "      <td>3</td>\n",
       "      <td>True</td>\n",
       "      <td>2</td>\n",
       "      <td>52915</td>\n",
       "      <td>12</td>\n",
       "      <td>30.900000</td>\n",
       "      <td>2128</td>\n",
       "    </tr>\n",
       "  </tbody>\n",
       "</table>\n",
       "<p>21201 rows × 12 columns</p>\n",
       "</div>"
      ],
      "text/plain": [
       "           Rider_id  No_Of_Orders   Age  Average_Rating  No_of_Ratings  \\\n",
       "0      Rider_Id_432          1637  1309            13.8            549   \n",
       "1      Rider_Id_856           396   339            13.6             69   \n",
       "2      Rider_Id_155          1023   242            12.5            114   \n",
       "3      Rider_Id_855           886   283            14.5            113   \n",
       "4      Rider_Id_770          2311   872            14.1            533   \n",
       "...             ...           ...   ...             ...            ...   \n",
       "21196  Rider_Id_953          1270   367            14.4            131   \n",
       "21197  Rider_Id_155          1023   242            12.5            114   \n",
       "21198  Rider_Id_697           314   473            13.8             29   \n",
       "21199  Rider_Id_347          2451  1821            14.0           1101   \n",
       "21200  Rider_Id_177           526   286            13.6             70   \n",
       "\n",
       "      Platform_type  is_business Pickup_weekday  Pickup_time  Distance  \\\n",
       "0                 3         True              5        37650         4   \n",
       "1                 3        False              5        42249        16   \n",
       "2                 3         True              2        46383         3   \n",
       "3                 3         True              5        34986         9   \n",
       "4                 1        False              1        36323         9   \n",
       "...             ...          ...            ...          ...       ...   \n",
       "21196             3        False              3        58808         3   \n",
       "21197             3         True              6        38007         7   \n",
       "21198             3         True              4        64252        20   \n",
       "21199             1        False              3        35115        13   \n",
       "21200             3         True              2        52915        12   \n",
       "\n",
       "       Temperature  Travel_time  \n",
       "0        20.400000          745  \n",
       "1        26.400000         1993  \n",
       "2        23.258889          455  \n",
       "3        19.200000         1341  \n",
       "4        15.400000         1214  \n",
       "...            ...          ...  \n",
       "21196    28.600000            9  \n",
       "21197    26.000000          770  \n",
       "21198    29.200000         2953  \n",
       "21199    15.000000         1380  \n",
       "21200    30.900000         2128  \n",
       "\n",
       "[21201 rows x 12 columns]"
      ]
     },
     "execution_count": 216,
     "metadata": {},
     "output_type": "execute_result"
    }
   ],
   "source": [
    "df"
   ]
  },
  {
   "cell_type": "code",
   "execution_count": 217,
   "metadata": {},
   "outputs": [
    {
     "data": {
      "text/plain": [
       "Rider_id            object\n",
       "No_Of_Orders         int64\n",
       "Age                  int64\n",
       "Average_Rating     float64\n",
       "No_of_Ratings        int64\n",
       "Platform_type     category\n",
       "is_business           bool\n",
       "Pickup_weekday    category\n",
       "Pickup_time          int64\n",
       "Distance             int64\n",
       "Temperature        float64\n",
       "Travel_time          int64\n",
       "dtype: object"
      ]
     },
     "execution_count": 217,
     "metadata": {},
     "output_type": "execute_result"
    }
   ],
   "source": [
    "df.dtypes"
   ]
  },
  {
   "cell_type": "code",
   "execution_count": 218,
   "metadata": {},
   "outputs": [
    {
     "data": {
      "text/html": [
       "<div>\n",
       "<style scoped>\n",
       "    .dataframe tbody tr th:only-of-type {\n",
       "        vertical-align: middle;\n",
       "    }\n",
       "\n",
       "    .dataframe tbody tr th {\n",
       "        vertical-align: top;\n",
       "    }\n",
       "\n",
       "    .dataframe thead th {\n",
       "        text-align: right;\n",
       "    }\n",
       "</style>\n",
       "<table border=\"1\" class=\"dataframe\">\n",
       "  <thead>\n",
       "    <tr style=\"text-align: right;\">\n",
       "      <th></th>\n",
       "      <th>Platform_type_1</th>\n",
       "      <th>Platform_type_2</th>\n",
       "      <th>Platform_type_3</th>\n",
       "      <th>Platform_type_4</th>\n",
       "      <th>Pickup_weekday_1</th>\n",
       "      <th>Pickup_weekday_2</th>\n",
       "      <th>Pickup_weekday_3</th>\n",
       "      <th>Pickup_weekday_4</th>\n",
       "      <th>Pickup_weekday_5</th>\n",
       "      <th>Pickup_weekday_6</th>\n",
       "      <th>Pickup_weekday_7</th>\n",
       "    </tr>\n",
       "  </thead>\n",
       "  <tbody>\n",
       "    <tr>\n",
       "      <th>0</th>\n",
       "      <td>0</td>\n",
       "      <td>0</td>\n",
       "      <td>1</td>\n",
       "      <td>0</td>\n",
       "      <td>0</td>\n",
       "      <td>0</td>\n",
       "      <td>0</td>\n",
       "      <td>0</td>\n",
       "      <td>1</td>\n",
       "      <td>0</td>\n",
       "      <td>0</td>\n",
       "    </tr>\n",
       "    <tr>\n",
       "      <th>1</th>\n",
       "      <td>0</td>\n",
       "      <td>0</td>\n",
       "      <td>1</td>\n",
       "      <td>0</td>\n",
       "      <td>0</td>\n",
       "      <td>0</td>\n",
       "      <td>0</td>\n",
       "      <td>0</td>\n",
       "      <td>1</td>\n",
       "      <td>0</td>\n",
       "      <td>0</td>\n",
       "    </tr>\n",
       "    <tr>\n",
       "      <th>2</th>\n",
       "      <td>0</td>\n",
       "      <td>0</td>\n",
       "      <td>1</td>\n",
       "      <td>0</td>\n",
       "      <td>0</td>\n",
       "      <td>1</td>\n",
       "      <td>0</td>\n",
       "      <td>0</td>\n",
       "      <td>0</td>\n",
       "      <td>0</td>\n",
       "      <td>0</td>\n",
       "    </tr>\n",
       "    <tr>\n",
       "      <th>3</th>\n",
       "      <td>0</td>\n",
       "      <td>0</td>\n",
       "      <td>1</td>\n",
       "      <td>0</td>\n",
       "      <td>0</td>\n",
       "      <td>0</td>\n",
       "      <td>0</td>\n",
       "      <td>0</td>\n",
       "      <td>1</td>\n",
       "      <td>0</td>\n",
       "      <td>0</td>\n",
       "    </tr>\n",
       "    <tr>\n",
       "      <th>4</th>\n",
       "      <td>1</td>\n",
       "      <td>0</td>\n",
       "      <td>0</td>\n",
       "      <td>0</td>\n",
       "      <td>1</td>\n",
       "      <td>0</td>\n",
       "      <td>0</td>\n",
       "      <td>0</td>\n",
       "      <td>0</td>\n",
       "      <td>0</td>\n",
       "      <td>0</td>\n",
       "    </tr>\n",
       "    <tr>\n",
       "      <th>...</th>\n",
       "      <td>...</td>\n",
       "      <td>...</td>\n",
       "      <td>...</td>\n",
       "      <td>...</td>\n",
       "      <td>...</td>\n",
       "      <td>...</td>\n",
       "      <td>...</td>\n",
       "      <td>...</td>\n",
       "      <td>...</td>\n",
       "      <td>...</td>\n",
       "      <td>...</td>\n",
       "    </tr>\n",
       "    <tr>\n",
       "      <th>21196</th>\n",
       "      <td>0</td>\n",
       "      <td>0</td>\n",
       "      <td>1</td>\n",
       "      <td>0</td>\n",
       "      <td>0</td>\n",
       "      <td>0</td>\n",
       "      <td>1</td>\n",
       "      <td>0</td>\n",
       "      <td>0</td>\n",
       "      <td>0</td>\n",
       "      <td>0</td>\n",
       "    </tr>\n",
       "    <tr>\n",
       "      <th>21197</th>\n",
       "      <td>0</td>\n",
       "      <td>0</td>\n",
       "      <td>1</td>\n",
       "      <td>0</td>\n",
       "      <td>0</td>\n",
       "      <td>0</td>\n",
       "      <td>0</td>\n",
       "      <td>0</td>\n",
       "      <td>0</td>\n",
       "      <td>1</td>\n",
       "      <td>0</td>\n",
       "    </tr>\n",
       "    <tr>\n",
       "      <th>21198</th>\n",
       "      <td>0</td>\n",
       "      <td>0</td>\n",
       "      <td>1</td>\n",
       "      <td>0</td>\n",
       "      <td>0</td>\n",
       "      <td>0</td>\n",
       "      <td>0</td>\n",
       "      <td>1</td>\n",
       "      <td>0</td>\n",
       "      <td>0</td>\n",
       "      <td>0</td>\n",
       "    </tr>\n",
       "    <tr>\n",
       "      <th>21199</th>\n",
       "      <td>1</td>\n",
       "      <td>0</td>\n",
       "      <td>0</td>\n",
       "      <td>0</td>\n",
       "      <td>0</td>\n",
       "      <td>0</td>\n",
       "      <td>1</td>\n",
       "      <td>0</td>\n",
       "      <td>0</td>\n",
       "      <td>0</td>\n",
       "      <td>0</td>\n",
       "    </tr>\n",
       "    <tr>\n",
       "      <th>21200</th>\n",
       "      <td>0</td>\n",
       "      <td>0</td>\n",
       "      <td>1</td>\n",
       "      <td>0</td>\n",
       "      <td>0</td>\n",
       "      <td>1</td>\n",
       "      <td>0</td>\n",
       "      <td>0</td>\n",
       "      <td>0</td>\n",
       "      <td>0</td>\n",
       "      <td>0</td>\n",
       "    </tr>\n",
       "  </tbody>\n",
       "</table>\n",
       "<p>21201 rows × 11 columns</p>\n",
       "</div>"
      ],
      "text/plain": [
       "       Platform_type_1  Platform_type_2  Platform_type_3  Platform_type_4  \\\n",
       "0                    0                0                1                0   \n",
       "1                    0                0                1                0   \n",
       "2                    0                0                1                0   \n",
       "3                    0                0                1                0   \n",
       "4                    1                0                0                0   \n",
       "...                ...              ...              ...              ...   \n",
       "21196                0                0                1                0   \n",
       "21197                0                0                1                0   \n",
       "21198                0                0                1                0   \n",
       "21199                1                0                0                0   \n",
       "21200                0                0                1                0   \n",
       "\n",
       "       Pickup_weekday_1  Pickup_weekday_2  Pickup_weekday_3  Pickup_weekday_4  \\\n",
       "0                     0                 0                 0                 0   \n",
       "1                     0                 0                 0                 0   \n",
       "2                     0                 1                 0                 0   \n",
       "3                     0                 0                 0                 0   \n",
       "4                     1                 0                 0                 0   \n",
       "...                 ...               ...               ...               ...   \n",
       "21196                 0                 0                 1                 0   \n",
       "21197                 0                 0                 0                 0   \n",
       "21198                 0                 0                 0                 1   \n",
       "21199                 0                 0                 1                 0   \n",
       "21200                 0                 1                 0                 0   \n",
       "\n",
       "       Pickup_weekday_5  Pickup_weekday_6  Pickup_weekday_7  \n",
       "0                     1                 0                 0  \n",
       "1                     1                 0                 0  \n",
       "2                     0                 0                 0  \n",
       "3                     1                 0                 0  \n",
       "4                     0                 0                 0  \n",
       "...                 ...               ...               ...  \n",
       "21196                 0                 0                 0  \n",
       "21197                 0                 1                 0  \n",
       "21198                 0                 0                 0  \n",
       "21199                 0                 0                 0  \n",
       "21200                 0                 0                 0  \n",
       "\n",
       "[21201 rows x 11 columns]"
      ]
     },
     "execution_count": 218,
     "metadata": {},
     "output_type": "execute_result"
    }
   ],
   "source": [
    "dummies = pd.get_dummies(df[[\"Platform_type\", \"Pickup_weekday\"]])\n",
    "dummies"
   ]
  },
  {
   "cell_type": "code",
   "execution_count": 219,
   "metadata": {},
   "outputs": [],
   "source": [
    "df = pd.concat([df, dummies], axis=1)\n",
    "df.drop(columns=[\"Platform_type\", \"Pickup_weekday\"], inplace=True)"
   ]
  },
  {
   "cell_type": "code",
   "execution_count": 220,
   "metadata": {},
   "outputs": [
    {
     "data": {
      "text/plain": [
       "Rider_id             object\n",
       "No_Of_Orders          int64\n",
       "Age                   int64\n",
       "Average_Rating      float64\n",
       "No_of_Ratings         int64\n",
       "is_business            bool\n",
       "Pickup_time           int64\n",
       "Distance              int64\n",
       "Temperature         float64\n",
       "Travel_time           int64\n",
       "Platform_type_1       uint8\n",
       "Platform_type_2       uint8\n",
       "Platform_type_3       uint8\n",
       "Platform_type_4       uint8\n",
       "Pickup_weekday_1      uint8\n",
       "Pickup_weekday_2      uint8\n",
       "Pickup_weekday_3      uint8\n",
       "Pickup_weekday_4      uint8\n",
       "Pickup_weekday_5      uint8\n",
       "Pickup_weekday_6      uint8\n",
       "Pickup_weekday_7      uint8\n",
       "dtype: object"
      ]
     },
     "execution_count": 220,
     "metadata": {},
     "output_type": "execute_result"
    }
   ],
   "source": [
    "df.dtypes"
   ]
  },
  {
   "cell_type": "code",
   "execution_count": 221,
   "metadata": {},
   "outputs": [],
   "source": [
    "df.drop(columns=[\"Rider_id\"], inplace=True)"
   ]
  },
  {
   "cell_type": "code",
   "execution_count": 222,
   "metadata": {},
   "outputs": [
    {
     "data": {
      "text/plain": [
       "Index(['No_Of_Orders', 'Age', 'Average_Rating', 'No_of_Ratings', 'is_business',\n",
       "       'Pickup_time', 'Distance', 'Temperature', 'Platform_type_1',\n",
       "       'Platform_type_2', 'Platform_type_3', 'Platform_type_4',\n",
       "       'Pickup_weekday_1', 'Pickup_weekday_2', 'Pickup_weekday_3',\n",
       "       'Pickup_weekday_4', 'Pickup_weekday_5', 'Pickup_weekday_6',\n",
       "       'Pickup_weekday_7'],\n",
       "      dtype='object')"
      ]
     },
     "execution_count": 222,
     "metadata": {},
     "output_type": "execute_result"
    }
   ],
   "source": [
    "features = df.columns\n",
    "features = features.delete(features.get_loc(\"Travel_time\"))\n",
    "features"
   ]
  },
  {
   "cell_type": "markdown",
   "metadata": {},
   "source": [
    "# Looking at coefficient"
   ]
  },
  {
   "cell_type": "code",
   "execution_count": 223,
   "metadata": {},
   "outputs": [
    {
     "data": {
      "text/plain": [
       "0         745\n",
       "1        1993\n",
       "2         455\n",
       "3        1341\n",
       "4        1214\n",
       "         ... \n",
       "21196       9\n",
       "21197     770\n",
       "21198    2953\n",
       "21199    1380\n",
       "21200    2128\n",
       "Name: Travel_time, Length: 21201, dtype: int64"
      ]
     },
     "execution_count": 223,
     "metadata": {},
     "output_type": "execute_result"
    }
   ],
   "source": [
    "X = df[features]\n",
    "y = df[\"Travel_time\"]\n",
    "y"
   ]
  },
  {
   "cell_type": "code",
   "execution_count": 224,
   "metadata": {},
   "outputs": [
    {
     "data": {
      "text/html": [
       "<div>\n",
       "<style scoped>\n",
       "    .dataframe tbody tr th:only-of-type {\n",
       "        vertical-align: middle;\n",
       "    }\n",
       "\n",
       "    .dataframe tbody tr th {\n",
       "        vertical-align: top;\n",
       "    }\n",
       "\n",
       "    .dataframe thead th {\n",
       "        text-align: right;\n",
       "    }\n",
       "</style>\n",
       "<table border=\"1\" class=\"dataframe\">\n",
       "  <thead>\n",
       "    <tr style=\"text-align: right;\">\n",
       "      <th></th>\n",
       "      <th>No_Of_Orders</th>\n",
       "      <th>Age</th>\n",
       "      <th>Average_Rating</th>\n",
       "      <th>No_of_Ratings</th>\n",
       "      <th>is_business</th>\n",
       "      <th>Pickup_time</th>\n",
       "      <th>Distance</th>\n",
       "      <th>Temperature</th>\n",
       "      <th>Platform_type_1</th>\n",
       "      <th>Platform_type_2</th>\n",
       "      <th>Platform_type_3</th>\n",
       "      <th>Platform_type_4</th>\n",
       "      <th>Pickup_weekday_1</th>\n",
       "      <th>Pickup_weekday_2</th>\n",
       "      <th>Pickup_weekday_3</th>\n",
       "      <th>Pickup_weekday_4</th>\n",
       "      <th>Pickup_weekday_5</th>\n",
       "      <th>Pickup_weekday_6</th>\n",
       "      <th>Pickup_weekday_7</th>\n",
       "    </tr>\n",
       "  </thead>\n",
       "  <tbody>\n",
       "    <tr>\n",
       "      <th>0</th>\n",
       "      <td>1637</td>\n",
       "      <td>1309</td>\n",
       "      <td>13.8</td>\n",
       "      <td>549</td>\n",
       "      <td>True</td>\n",
       "      <td>37650</td>\n",
       "      <td>4</td>\n",
       "      <td>20.400000</td>\n",
       "      <td>0</td>\n",
       "      <td>0</td>\n",
       "      <td>1</td>\n",
       "      <td>0</td>\n",
       "      <td>0</td>\n",
       "      <td>0</td>\n",
       "      <td>0</td>\n",
       "      <td>0</td>\n",
       "      <td>1</td>\n",
       "      <td>0</td>\n",
       "      <td>0</td>\n",
       "    </tr>\n",
       "    <tr>\n",
       "      <th>1</th>\n",
       "      <td>396</td>\n",
       "      <td>339</td>\n",
       "      <td>13.6</td>\n",
       "      <td>69</td>\n",
       "      <td>False</td>\n",
       "      <td>42249</td>\n",
       "      <td>16</td>\n",
       "      <td>26.400000</td>\n",
       "      <td>0</td>\n",
       "      <td>0</td>\n",
       "      <td>1</td>\n",
       "      <td>0</td>\n",
       "      <td>0</td>\n",
       "      <td>0</td>\n",
       "      <td>0</td>\n",
       "      <td>0</td>\n",
       "      <td>1</td>\n",
       "      <td>0</td>\n",
       "      <td>0</td>\n",
       "    </tr>\n",
       "    <tr>\n",
       "      <th>2</th>\n",
       "      <td>1023</td>\n",
       "      <td>242</td>\n",
       "      <td>12.5</td>\n",
       "      <td>114</td>\n",
       "      <td>True</td>\n",
       "      <td>46383</td>\n",
       "      <td>3</td>\n",
       "      <td>23.258889</td>\n",
       "      <td>0</td>\n",
       "      <td>0</td>\n",
       "      <td>1</td>\n",
       "      <td>0</td>\n",
       "      <td>0</td>\n",
       "      <td>1</td>\n",
       "      <td>0</td>\n",
       "      <td>0</td>\n",
       "      <td>0</td>\n",
       "      <td>0</td>\n",
       "      <td>0</td>\n",
       "    </tr>\n",
       "    <tr>\n",
       "      <th>3</th>\n",
       "      <td>886</td>\n",
       "      <td>283</td>\n",
       "      <td>14.5</td>\n",
       "      <td>113</td>\n",
       "      <td>True</td>\n",
       "      <td>34986</td>\n",
       "      <td>9</td>\n",
       "      <td>19.200000</td>\n",
       "      <td>0</td>\n",
       "      <td>0</td>\n",
       "      <td>1</td>\n",
       "      <td>0</td>\n",
       "      <td>0</td>\n",
       "      <td>0</td>\n",
       "      <td>0</td>\n",
       "      <td>0</td>\n",
       "      <td>1</td>\n",
       "      <td>0</td>\n",
       "      <td>0</td>\n",
       "    </tr>\n",
       "    <tr>\n",
       "      <th>4</th>\n",
       "      <td>2311</td>\n",
       "      <td>872</td>\n",
       "      <td>14.1</td>\n",
       "      <td>533</td>\n",
       "      <td>False</td>\n",
       "      <td>36323</td>\n",
       "      <td>9</td>\n",
       "      <td>15.400000</td>\n",
       "      <td>1</td>\n",
       "      <td>0</td>\n",
       "      <td>0</td>\n",
       "      <td>0</td>\n",
       "      <td>1</td>\n",
       "      <td>0</td>\n",
       "      <td>0</td>\n",
       "      <td>0</td>\n",
       "      <td>0</td>\n",
       "      <td>0</td>\n",
       "      <td>0</td>\n",
       "    </tr>\n",
       "    <tr>\n",
       "      <th>...</th>\n",
       "      <td>...</td>\n",
       "      <td>...</td>\n",
       "      <td>...</td>\n",
       "      <td>...</td>\n",
       "      <td>...</td>\n",
       "      <td>...</td>\n",
       "      <td>...</td>\n",
       "      <td>...</td>\n",
       "      <td>...</td>\n",
       "      <td>...</td>\n",
       "      <td>...</td>\n",
       "      <td>...</td>\n",
       "      <td>...</td>\n",
       "      <td>...</td>\n",
       "      <td>...</td>\n",
       "      <td>...</td>\n",
       "      <td>...</td>\n",
       "      <td>...</td>\n",
       "      <td>...</td>\n",
       "    </tr>\n",
       "    <tr>\n",
       "      <th>21196</th>\n",
       "      <td>1270</td>\n",
       "      <td>367</td>\n",
       "      <td>14.4</td>\n",
       "      <td>131</td>\n",
       "      <td>False</td>\n",
       "      <td>58808</td>\n",
       "      <td>3</td>\n",
       "      <td>28.600000</td>\n",
       "      <td>0</td>\n",
       "      <td>0</td>\n",
       "      <td>1</td>\n",
       "      <td>0</td>\n",
       "      <td>0</td>\n",
       "      <td>0</td>\n",
       "      <td>1</td>\n",
       "      <td>0</td>\n",
       "      <td>0</td>\n",
       "      <td>0</td>\n",
       "      <td>0</td>\n",
       "    </tr>\n",
       "    <tr>\n",
       "      <th>21197</th>\n",
       "      <td>1023</td>\n",
       "      <td>242</td>\n",
       "      <td>12.5</td>\n",
       "      <td>114</td>\n",
       "      <td>True</td>\n",
       "      <td>38007</td>\n",
       "      <td>7</td>\n",
       "      <td>26.000000</td>\n",
       "      <td>0</td>\n",
       "      <td>0</td>\n",
       "      <td>1</td>\n",
       "      <td>0</td>\n",
       "      <td>0</td>\n",
       "      <td>0</td>\n",
       "      <td>0</td>\n",
       "      <td>0</td>\n",
       "      <td>0</td>\n",
       "      <td>1</td>\n",
       "      <td>0</td>\n",
       "    </tr>\n",
       "    <tr>\n",
       "      <th>21198</th>\n",
       "      <td>314</td>\n",
       "      <td>473</td>\n",
       "      <td>13.8</td>\n",
       "      <td>29</td>\n",
       "      <td>True</td>\n",
       "      <td>64252</td>\n",
       "      <td>20</td>\n",
       "      <td>29.200000</td>\n",
       "      <td>0</td>\n",
       "      <td>0</td>\n",
       "      <td>1</td>\n",
       "      <td>0</td>\n",
       "      <td>0</td>\n",
       "      <td>0</td>\n",
       "      <td>0</td>\n",
       "      <td>1</td>\n",
       "      <td>0</td>\n",
       "      <td>0</td>\n",
       "      <td>0</td>\n",
       "    </tr>\n",
       "    <tr>\n",
       "      <th>21199</th>\n",
       "      <td>2451</td>\n",
       "      <td>1821</td>\n",
       "      <td>14.0</td>\n",
       "      <td>1101</td>\n",
       "      <td>False</td>\n",
       "      <td>35115</td>\n",
       "      <td>13</td>\n",
       "      <td>15.000000</td>\n",
       "      <td>1</td>\n",
       "      <td>0</td>\n",
       "      <td>0</td>\n",
       "      <td>0</td>\n",
       "      <td>0</td>\n",
       "      <td>0</td>\n",
       "      <td>1</td>\n",
       "      <td>0</td>\n",
       "      <td>0</td>\n",
       "      <td>0</td>\n",
       "      <td>0</td>\n",
       "    </tr>\n",
       "    <tr>\n",
       "      <th>21200</th>\n",
       "      <td>526</td>\n",
       "      <td>286</td>\n",
       "      <td>13.6</td>\n",
       "      <td>70</td>\n",
       "      <td>True</td>\n",
       "      <td>52915</td>\n",
       "      <td>12</td>\n",
       "      <td>30.900000</td>\n",
       "      <td>0</td>\n",
       "      <td>0</td>\n",
       "      <td>1</td>\n",
       "      <td>0</td>\n",
       "      <td>0</td>\n",
       "      <td>1</td>\n",
       "      <td>0</td>\n",
       "      <td>0</td>\n",
       "      <td>0</td>\n",
       "      <td>0</td>\n",
       "      <td>0</td>\n",
       "    </tr>\n",
       "  </tbody>\n",
       "</table>\n",
       "<p>21201 rows × 19 columns</p>\n",
       "</div>"
      ],
      "text/plain": [
       "       No_Of_Orders   Age  Average_Rating  No_of_Ratings  is_business  \\\n",
       "0              1637  1309            13.8            549         True   \n",
       "1               396   339            13.6             69        False   \n",
       "2              1023   242            12.5            114         True   \n",
       "3               886   283            14.5            113         True   \n",
       "4              2311   872            14.1            533        False   \n",
       "...             ...   ...             ...            ...          ...   \n",
       "21196          1270   367            14.4            131        False   \n",
       "21197          1023   242            12.5            114         True   \n",
       "21198           314   473            13.8             29         True   \n",
       "21199          2451  1821            14.0           1101        False   \n",
       "21200           526   286            13.6             70         True   \n",
       "\n",
       "       Pickup_time  Distance  Temperature  Platform_type_1  Platform_type_2  \\\n",
       "0            37650         4    20.400000                0                0   \n",
       "1            42249        16    26.400000                0                0   \n",
       "2            46383         3    23.258889                0                0   \n",
       "3            34986         9    19.200000                0                0   \n",
       "4            36323         9    15.400000                1                0   \n",
       "...            ...       ...          ...              ...              ...   \n",
       "21196        58808         3    28.600000                0                0   \n",
       "21197        38007         7    26.000000                0                0   \n",
       "21198        64252        20    29.200000                0                0   \n",
       "21199        35115        13    15.000000                1                0   \n",
       "21200        52915        12    30.900000                0                0   \n",
       "\n",
       "       Platform_type_3  Platform_type_4  Pickup_weekday_1  Pickup_weekday_2  \\\n",
       "0                    1                0                 0                 0   \n",
       "1                    1                0                 0                 0   \n",
       "2                    1                0                 0                 1   \n",
       "3                    1                0                 0                 0   \n",
       "4                    0                0                 1                 0   \n",
       "...                ...              ...               ...               ...   \n",
       "21196                1                0                 0                 0   \n",
       "21197                1                0                 0                 0   \n",
       "21198                1                0                 0                 0   \n",
       "21199                0                0                 0                 0   \n",
       "21200                1                0                 0                 1   \n",
       "\n",
       "       Pickup_weekday_3  Pickup_weekday_4  Pickup_weekday_5  Pickup_weekday_6  \\\n",
       "0                     0                 0                 1                 0   \n",
       "1                     0                 0                 1                 0   \n",
       "2                     0                 0                 0                 0   \n",
       "3                     0                 0                 1                 0   \n",
       "4                     0                 0                 0                 0   \n",
       "...                 ...               ...               ...               ...   \n",
       "21196                 1                 0                 0                 0   \n",
       "21197                 0                 0                 0                 1   \n",
       "21198                 0                 1                 0                 0   \n",
       "21199                 1                 0                 0                 0   \n",
       "21200                 0                 0                 0                 0   \n",
       "\n",
       "       Pickup_weekday_7  \n",
       "0                     0  \n",
       "1                     0  \n",
       "2                     0  \n",
       "3                     0  \n",
       "4                     0  \n",
       "...                 ...  \n",
       "21196                 0  \n",
       "21197                 0  \n",
       "21198                 0  \n",
       "21199                 0  \n",
       "21200                 0  \n",
       "\n",
       "[21201 rows x 19 columns]"
      ]
     },
     "execution_count": 224,
     "metadata": {},
     "output_type": "execute_result"
    }
   ],
   "source": [
    "X"
   ]
  },
  {
   "cell_type": "code",
   "execution_count": 225,
   "metadata": {},
   "outputs": [
    {
     "data": {
      "text/html": [
       "<style>#sk-container-id-7 {color: black;background-color: white;}#sk-container-id-7 pre{padding: 0;}#sk-container-id-7 div.sk-toggleable {background-color: white;}#sk-container-id-7 label.sk-toggleable__label {cursor: pointer;display: block;width: 100%;margin-bottom: 0;padding: 0.3em;box-sizing: border-box;text-align: center;}#sk-container-id-7 label.sk-toggleable__label-arrow:before {content: \"▸\";float: left;margin-right: 0.25em;color: #696969;}#sk-container-id-7 label.sk-toggleable__label-arrow:hover:before {color: black;}#sk-container-id-7 div.sk-estimator:hover label.sk-toggleable__label-arrow:before {color: black;}#sk-container-id-7 div.sk-toggleable__content {max-height: 0;max-width: 0;overflow: hidden;text-align: left;background-color: #f0f8ff;}#sk-container-id-7 div.sk-toggleable__content pre {margin: 0.2em;color: black;border-radius: 0.25em;background-color: #f0f8ff;}#sk-container-id-7 input.sk-toggleable__control:checked~div.sk-toggleable__content {max-height: 200px;max-width: 100%;overflow: auto;}#sk-container-id-7 input.sk-toggleable__control:checked~label.sk-toggleable__label-arrow:before {content: \"▾\";}#sk-container-id-7 div.sk-estimator input.sk-toggleable__control:checked~label.sk-toggleable__label {background-color: #d4ebff;}#sk-container-id-7 div.sk-label input.sk-toggleable__control:checked~label.sk-toggleable__label {background-color: #d4ebff;}#sk-container-id-7 input.sk-hidden--visually {border: 0;clip: rect(1px 1px 1px 1px);clip: rect(1px, 1px, 1px, 1px);height: 1px;margin: -1px;overflow: hidden;padding: 0;position: absolute;width: 1px;}#sk-container-id-7 div.sk-estimator {font-family: monospace;background-color: #f0f8ff;border: 1px dotted black;border-radius: 0.25em;box-sizing: border-box;margin-bottom: 0.5em;}#sk-container-id-7 div.sk-estimator:hover {background-color: #d4ebff;}#sk-container-id-7 div.sk-parallel-item::after {content: \"\";width: 100%;border-bottom: 1px solid gray;flex-grow: 1;}#sk-container-id-7 div.sk-label:hover label.sk-toggleable__label {background-color: #d4ebff;}#sk-container-id-7 div.sk-serial::before {content: \"\";position: absolute;border-left: 1px solid gray;box-sizing: border-box;top: 0;bottom: 0;left: 50%;z-index: 0;}#sk-container-id-7 div.sk-serial {display: flex;flex-direction: column;align-items: center;background-color: white;padding-right: 0.2em;padding-left: 0.2em;position: relative;}#sk-container-id-7 div.sk-item {position: relative;z-index: 1;}#sk-container-id-7 div.sk-parallel {display: flex;align-items: stretch;justify-content: center;background-color: white;position: relative;}#sk-container-id-7 div.sk-item::before, #sk-container-id-7 div.sk-parallel-item::before {content: \"\";position: absolute;border-left: 1px solid gray;box-sizing: border-box;top: 0;bottom: 0;left: 50%;z-index: -1;}#sk-container-id-7 div.sk-parallel-item {display: flex;flex-direction: column;z-index: 1;position: relative;background-color: white;}#sk-container-id-7 div.sk-parallel-item:first-child::after {align-self: flex-end;width: 50%;}#sk-container-id-7 div.sk-parallel-item:last-child::after {align-self: flex-start;width: 50%;}#sk-container-id-7 div.sk-parallel-item:only-child::after {width: 0;}#sk-container-id-7 div.sk-dashed-wrapped {border: 1px dashed gray;margin: 0 0.4em 0.5em 0.4em;box-sizing: border-box;padding-bottom: 0.4em;background-color: white;}#sk-container-id-7 div.sk-label label {font-family: monospace;font-weight: bold;display: inline-block;line-height: 1.2em;}#sk-container-id-7 div.sk-label-container {text-align: center;}#sk-container-id-7 div.sk-container {/* jupyter's `normalize.less` sets `[hidden] { display: none; }` but bootstrap.min.css set `[hidden] { display: none !important; }` so we also need the `!important` here to be able to override the default hidden behavior on the sphinx rendered scikit-learn.org. See: https://github.com/scikit-learn/scikit-learn/issues/21755 */display: inline-block !important;position: relative;}#sk-container-id-7 div.sk-text-repr-fallback {display: none;}</style><div id=\"sk-container-id-7\" class=\"sk-top-container\"><div class=\"sk-text-repr-fallback\"><pre>LinearRegression()</pre><b>In a Jupyter environment, please rerun this cell to show the HTML representation or trust the notebook. <br />On GitHub, the HTML representation is unable to render, please try loading this page with nbviewer.org.</b></div><div class=\"sk-container\" hidden><div class=\"sk-item\"><div class=\"sk-estimator sk-toggleable\"><input class=\"sk-toggleable__control sk-hidden--visually\" id=\"sk-estimator-id-7\" type=\"checkbox\" checked><label for=\"sk-estimator-id-7\" class=\"sk-toggleable__label sk-toggleable__label-arrow\">LinearRegression</label><div class=\"sk-toggleable__content\"><pre>LinearRegression()</pre></div></div></div></div></div>"
      ],
      "text/plain": [
       "LinearRegression()"
      ]
     },
     "execution_count": 225,
     "metadata": {},
     "output_type": "execute_result"
    }
   ],
   "source": [
    "#\n",
    "model = LinearRegression()\n",
    "\n",
    "X_train, X_test, y_train, y_test = train_test_split(X, y, test_size=0.2, random_state=13)\n",
    "#Standardizing\n",
    "scaler = StandardScaler()\n",
    "X_train = scaler.fit_transform(X_train)\n",
    "X_train = pd.DataFrame(X_train, columns=features)\n",
    "X_test = scaler.transform(X_test)\n",
    "X_test = pd.DataFrame(X_test, columns=features)\n",
    "\n",
    "model.fit(X_train, y_train)"
   ]
  },
  {
   "cell_type": "code",
   "execution_count": 226,
   "metadata": {},
   "outputs": [],
   "source": [
    "y_pred = model.predict(X_test)"
   ]
  },
  {
   "cell_type": "code",
   "execution_count": 227,
   "metadata": {},
   "outputs": [
    {
     "data": {
      "text/plain": [
       "649760.5575386215"
      ]
     },
     "execution_count": 227,
     "metadata": {},
     "output_type": "execute_result"
    }
   ],
   "source": [
    "MSE = mean_squared_error(y_true=y_test, y_pred=y_pred)\n",
    "MSE"
   ]
  },
  {
   "cell_type": "code",
   "execution_count": 228,
   "metadata": {},
   "outputs": [
    {
     "data": {
      "text/plain": [
       "0.3551350735527419"
      ]
     },
     "execution_count": 228,
     "metadata": {},
     "output_type": "execute_result"
    }
   ],
   "source": [
    "r2 = r2_score(y_true=y_test, y_pred=y_pred)\n",
    "r2"
   ]
  },
  {
   "cell_type": "code",
   "execution_count": 229,
   "metadata": {},
   "outputs": [
    {
     "data": {
      "text/plain": [
       "<AxesSubplot: >"
      ]
     },
     "execution_count": 229,
     "metadata": {},
     "output_type": "execute_result"
    },
    {
     "data": {
      "image/png": "[encoded data removed]",
      "text/plain": [
       "<Figure size 640x480 with 1 Axes>"
      ]
     },
     "metadata": {},
     "output_type": "display_data"
    }
   ],
   "source": [
    "coefficients = np.squeeze(model.coef_)\n",
    "sns.barplot(x=features, y=coefficients)"
   ]
  },
  {
   "cell_type": "code",
   "execution_count": 230,
   "metadata": {},
   "outputs": [],
   "source": [
    "feature_ranking = pd.DataFrame(data=coefficients, index=X.columns)"
   ]
  },
  {
   "cell_type": "code",
   "execution_count": 231,
   "metadata": {},
   "outputs": [],
   "source": [
    "feature_ranking[0] = abs(feature_ranking[0])"
   ]
  },
  {
   "cell_type": "code",
   "execution_count": 232,
   "metadata": {},
   "outputs": [],
   "source": [
    "feature_ranking = feature_ranking.sort_values([0], ascending=False)"
   ]
  },
  {
   "cell_type": "code",
   "execution_count": 233,
   "metadata": {},
   "outputs": [
    {
     "data": {
      "text/html": [
       "<div>\n",
       "<style scoped>\n",
       "    .dataframe tbody tr th:only-of-type {\n",
       "        vertical-align: middle;\n",
       "    }\n",
       "\n",
       "    .dataframe tbody tr th {\n",
       "        vertical-align: top;\n",
       "    }\n",
       "\n",
       "    .dataframe thead th {\n",
       "        text-align: right;\n",
       "    }\n",
       "</style>\n",
       "<table border=\"1\" class=\"dataframe\">\n",
       "  <thead>\n",
       "    <tr style=\"text-align: right;\">\n",
       "      <th></th>\n",
       "      <th>0</th>\n",
       "    </tr>\n",
       "  </thead>\n",
       "  <tbody>\n",
       "    <tr>\n",
       "      <th>Distance</th>\n",
       "      <td>572.255707</td>\n",
       "    </tr>\n",
       "    <tr>\n",
       "      <th>No_Of_Orders</th>\n",
       "      <td>152.412057</td>\n",
       "    </tr>\n",
       "    <tr>\n",
       "      <th>No_of_Ratings</th>\n",
       "      <td>107.817655</td>\n",
       "    </tr>\n",
       "    <tr>\n",
       "      <th>Average_Rating</th>\n",
       "      <td>37.097240</td>\n",
       "    </tr>\n",
       "    <tr>\n",
       "      <th>Pickup_weekday_6</th>\n",
       "      <td>33.962828</td>\n",
       "    </tr>\n",
       "    <tr>\n",
       "      <th>Pickup_time</th>\n",
       "      <td>28.813075</td>\n",
       "    </tr>\n",
       "    <tr>\n",
       "      <th>Pickup_weekday_1</th>\n",
       "      <td>24.631451</td>\n",
       "    </tr>\n",
       "    <tr>\n",
       "      <th>Pickup_weekday_5</th>\n",
       "      <td>17.811632</td>\n",
       "    </tr>\n",
       "    <tr>\n",
       "      <th>is_business</th>\n",
       "      <td>15.899155</td>\n",
       "    </tr>\n",
       "    <tr>\n",
       "      <th>Pickup_weekday_2</th>\n",
       "      <td>14.342404</td>\n",
       "    </tr>\n",
       "    <tr>\n",
       "      <th>Pickup_weekday_7</th>\n",
       "      <td>14.017488</td>\n",
       "    </tr>\n",
       "    <tr>\n",
       "      <th>Temperature</th>\n",
       "      <td>10.742164</td>\n",
       "    </tr>\n",
       "    <tr>\n",
       "      <th>Pickup_weekday_4</th>\n",
       "      <td>9.877132</td>\n",
       "    </tr>\n",
       "    <tr>\n",
       "      <th>Platform_type_4</th>\n",
       "      <td>9.855205</td>\n",
       "    </tr>\n",
       "    <tr>\n",
       "      <th>Age</th>\n",
       "      <td>6.892488</td>\n",
       "    </tr>\n",
       "    <tr>\n",
       "      <th>Pickup_weekday_3</th>\n",
       "      <td>5.746443</td>\n",
       "    </tr>\n",
       "    <tr>\n",
       "      <th>Platform_type_3</th>\n",
       "      <td>5.047218</td>\n",
       "    </tr>\n",
       "    <tr>\n",
       "      <th>Platform_type_1</th>\n",
       "      <td>4.416728</td>\n",
       "    </tr>\n",
       "    <tr>\n",
       "      <th>Platform_type_2</th>\n",
       "      <td>0.707308</td>\n",
       "    </tr>\n",
       "  </tbody>\n",
       "</table>\n",
       "</div>"
      ],
      "text/plain": [
       "                           0\n",
       "Distance          572.255707\n",
       "No_Of_Orders      152.412057\n",
       "No_of_Ratings     107.817655\n",
       "Average_Rating     37.097240\n",
       "Pickup_weekday_6   33.962828\n",
       "Pickup_time        28.813075\n",
       "Pickup_weekday_1   24.631451\n",
       "Pickup_weekday_5   17.811632\n",
       "is_business        15.899155\n",
       "Pickup_weekday_2   14.342404\n",
       "Pickup_weekday_7   14.017488\n",
       "Temperature        10.742164\n",
       "Pickup_weekday_4    9.877132\n",
       "Platform_type_4     9.855205\n",
       "Age                 6.892488\n",
       "Pickup_weekday_3    5.746443\n",
       "Platform_type_3     5.047218\n",
       "Platform_type_1     4.416728\n",
       "Platform_type_2     0.707308"
      ]
     },
     "execution_count": 233,
     "metadata": {},
     "output_type": "execute_result"
    }
   ],
   "source": [
    "feature_ranking"
   ]
  },
  {
   "cell_type": "code",
   "execution_count": 234,
   "metadata": {},
   "outputs": [
    {
     "data": {
      "text/plain": [
       "Index(['Distance', 'No_Of_Orders', 'No_of_Ratings', 'Average_Rating',\n",
       "       'Pickup_weekday_6', 'Pickup_time', 'Pickup_weekday_1',\n",
       "       'Pickup_weekday_5', 'is_business', 'Pickup_weekday_2'],\n",
       "      dtype='object')"
      ]
     },
     "execution_count": 234,
     "metadata": {},
     "output_type": "execute_result"
    }
   ],
   "source": [
    "top10 = feature_ranking.index[0:10]\n",
    "top10"
   ]
  },
  {
   "cell_type": "code",
   "execution_count": 235,
   "metadata": {},
   "outputs": [
    {
     "data": {
      "text/html": [
       "<div>\n",
       "<style scoped>\n",
       "    .dataframe tbody tr th:only-of-type {\n",
       "        vertical-align: middle;\n",
       "    }\n",
       "\n",
       "    .dataframe tbody tr th {\n",
       "        vertical-align: top;\n",
       "    }\n",
       "\n",
       "    .dataframe thead th {\n",
       "        text-align: right;\n",
       "    }\n",
       "</style>\n",
       "<table border=\"1\" class=\"dataframe\">\n",
       "  <thead>\n",
       "    <tr style=\"text-align: right;\">\n",
       "      <th></th>\n",
       "      <th>No_Of_Orders</th>\n",
       "      <th>Age</th>\n",
       "      <th>Average_Rating</th>\n",
       "      <th>No_of_Ratings</th>\n",
       "      <th>is_business</th>\n",
       "      <th>Pickup_time</th>\n",
       "      <th>Distance</th>\n",
       "      <th>Temperature</th>\n",
       "      <th>Platform_type_1</th>\n",
       "      <th>Platform_type_2</th>\n",
       "      <th>Platform_type_3</th>\n",
       "      <th>Platform_type_4</th>\n",
       "      <th>Pickup_weekday_1</th>\n",
       "      <th>Pickup_weekday_2</th>\n",
       "      <th>Pickup_weekday_3</th>\n",
       "      <th>Pickup_weekday_4</th>\n",
       "      <th>Pickup_weekday_5</th>\n",
       "      <th>Pickup_weekday_6</th>\n",
       "      <th>Pickup_weekday_7</th>\n",
       "    </tr>\n",
       "  </thead>\n",
       "  <tbody>\n",
       "    <tr>\n",
       "      <th>0</th>\n",
       "      <td>1637</td>\n",
       "      <td>1309</td>\n",
       "      <td>13.8</td>\n",
       "      <td>549</td>\n",
       "      <td>True</td>\n",
       "      <td>37650</td>\n",
       "      <td>4</td>\n",
       "      <td>20.400000</td>\n",
       "      <td>0</td>\n",
       "      <td>0</td>\n",
       "      <td>1</td>\n",
       "      <td>0</td>\n",
       "      <td>0</td>\n",
       "      <td>0</td>\n",
       "      <td>0</td>\n",
       "      <td>0</td>\n",
       "      <td>1</td>\n",
       "      <td>0</td>\n",
       "      <td>0</td>\n",
       "    </tr>\n",
       "    <tr>\n",
       "      <th>1</th>\n",
       "      <td>396</td>\n",
       "      <td>339</td>\n",
       "      <td>13.6</td>\n",
       "      <td>69</td>\n",
       "      <td>False</td>\n",
       "      <td>42249</td>\n",
       "      <td>16</td>\n",
       "      <td>26.400000</td>\n",
       "      <td>0</td>\n",
       "      <td>0</td>\n",
       "      <td>1</td>\n",
       "      <td>0</td>\n",
       "      <td>0</td>\n",
       "      <td>0</td>\n",
       "      <td>0</td>\n",
       "      <td>0</td>\n",
       "      <td>1</td>\n",
       "      <td>0</td>\n",
       "      <td>0</td>\n",
       "    </tr>\n",
       "    <tr>\n",
       "      <th>2</th>\n",
       "      <td>1023</td>\n",
       "      <td>242</td>\n",
       "      <td>12.5</td>\n",
       "      <td>114</td>\n",
       "      <td>True</td>\n",
       "      <td>46383</td>\n",
       "      <td>3</td>\n",
       "      <td>23.258889</td>\n",
       "      <td>0</td>\n",
       "      <td>0</td>\n",
       "      <td>1</td>\n",
       "      <td>0</td>\n",
       "      <td>0</td>\n",
       "      <td>1</td>\n",
       "      <td>0</td>\n",
       "      <td>0</td>\n",
       "      <td>0</td>\n",
       "      <td>0</td>\n",
       "      <td>0</td>\n",
       "    </tr>\n",
       "    <tr>\n",
       "      <th>3</th>\n",
       "      <td>886</td>\n",
       "      <td>283</td>\n",
       "      <td>14.5</td>\n",
       "      <td>113</td>\n",
       "      <td>True</td>\n",
       "      <td>34986</td>\n",
       "      <td>9</td>\n",
       "      <td>19.200000</td>\n",
       "      <td>0</td>\n",
       "      <td>0</td>\n",
       "      <td>1</td>\n",
       "      <td>0</td>\n",
       "      <td>0</td>\n",
       "      <td>0</td>\n",
       "      <td>0</td>\n",
       "      <td>0</td>\n",
       "      <td>1</td>\n",
       "      <td>0</td>\n",
       "      <td>0</td>\n",
       "    </tr>\n",
       "    <tr>\n",
       "      <th>4</th>\n",
       "      <td>2311</td>\n",
       "      <td>872</td>\n",
       "      <td>14.1</td>\n",
       "      <td>533</td>\n",
       "      <td>False</td>\n",
       "      <td>36323</td>\n",
       "      <td>9</td>\n",
       "      <td>15.400000</td>\n",
       "      <td>1</td>\n",
       "      <td>0</td>\n",
       "      <td>0</td>\n",
       "      <td>0</td>\n",
       "      <td>1</td>\n",
       "      <td>0</td>\n",
       "      <td>0</td>\n",
       "      <td>0</td>\n",
       "      <td>0</td>\n",
       "      <td>0</td>\n",
       "      <td>0</td>\n",
       "    </tr>\n",
       "  </tbody>\n",
       "</table>\n",
       "</div>"
      ],
      "text/plain": [
       "   No_Of_Orders   Age  Average_Rating  No_of_Ratings  is_business  \\\n",
       "0          1637  1309            13.8            549         True   \n",
       "1           396   339            13.6             69        False   \n",
       "2          1023   242            12.5            114         True   \n",
       "3           886   283            14.5            113         True   \n",
       "4          2311   872            14.1            533        False   \n",
       "\n",
       "   Pickup_time  Distance  Temperature  Platform_type_1  Platform_type_2  \\\n",
       "0        37650         4    20.400000                0                0   \n",
       "1        42249        16    26.400000                0                0   \n",
       "2        46383         3    23.258889                0                0   \n",
       "3        34986         9    19.200000                0                0   \n",
       "4        36323         9    15.400000                1                0   \n",
       "\n",
       "   Platform_type_3  Platform_type_4  Pickup_weekday_1  Pickup_weekday_2  \\\n",
       "0                1                0                 0                 0   \n",
       "1                1                0                 0                 0   \n",
       "2                1                0                 0                 1   \n",
       "3                1                0                 0                 0   \n",
       "4                0                0                 1                 0   \n",
       "\n",
       "   Pickup_weekday_3  Pickup_weekday_4  Pickup_weekday_5  Pickup_weekday_6  \\\n",
       "0                 0                 0                 1                 0   \n",
       "1                 0                 0                 1                 0   \n",
       "2                 0                 0                 0                 0   \n",
       "3                 0                 0                 1                 0   \n",
       "4                 0                 0                 0                 0   \n",
       "\n",
       "   Pickup_weekday_7  \n",
       "0                 0  \n",
       "1                 0  \n",
       "2                 0  \n",
       "3                 0  \n",
       "4                 0  "
      ]
     },
     "execution_count": 235,
     "metadata": {},
     "output_type": "execute_result"
    }
   ],
   "source": [
    "X.head()"
   ]
  },
  {
   "cell_type": "markdown",
   "metadata": {},
   "source": [
    "# PCA"
   ]
  },
  {
   "cell_type": "code",
   "execution_count": 236,
   "metadata": {},
   "outputs": [
    {
     "data": {
      "text/html": [
       "<div>\n",
       "<style scoped>\n",
       "    .dataframe tbody tr th:only-of-type {\n",
       "        vertical-align: middle;\n",
       "    }\n",
       "\n",
       "    .dataframe tbody tr th {\n",
       "        vertical-align: top;\n",
       "    }\n",
       "\n",
       "    .dataframe thead th {\n",
       "        text-align: right;\n",
       "    }\n",
       "</style>\n",
       "<table border=\"1\" class=\"dataframe\">\n",
       "  <thead>\n",
       "    <tr style=\"text-align: right;\">\n",
       "      <th></th>\n",
       "      <th>No_Of_Orders</th>\n",
       "      <th>Age</th>\n",
       "      <th>Average_Rating</th>\n",
       "      <th>No_of_Ratings</th>\n",
       "      <th>is_business</th>\n",
       "      <th>Pickup_time</th>\n",
       "      <th>Distance</th>\n",
       "      <th>Temperature</th>\n",
       "      <th>Platform_type_1</th>\n",
       "      <th>Platform_type_2</th>\n",
       "      <th>Platform_type_3</th>\n",
       "      <th>Platform_type_4</th>\n",
       "      <th>Pickup_weekday_1</th>\n",
       "      <th>Pickup_weekday_2</th>\n",
       "      <th>Pickup_weekday_3</th>\n",
       "      <th>Pickup_weekday_4</th>\n",
       "      <th>Pickup_weekday_5</th>\n",
       "      <th>Pickup_weekday_6</th>\n",
       "      <th>Pickup_weekday_7</th>\n",
       "    </tr>\n",
       "  </thead>\n",
       "  <tbody>\n",
       "    <tr>\n",
       "      <th>0</th>\n",
       "      <td>1637</td>\n",
       "      <td>1309</td>\n",
       "      <td>13.8</td>\n",
       "      <td>549</td>\n",
       "      <td>True</td>\n",
       "      <td>37650</td>\n",
       "      <td>4</td>\n",
       "      <td>20.400000</td>\n",
       "      <td>0</td>\n",
       "      <td>0</td>\n",
       "      <td>1</td>\n",
       "      <td>0</td>\n",
       "      <td>0</td>\n",
       "      <td>0</td>\n",
       "      <td>0</td>\n",
       "      <td>0</td>\n",
       "      <td>1</td>\n",
       "      <td>0</td>\n",
       "      <td>0</td>\n",
       "    </tr>\n",
       "    <tr>\n",
       "      <th>1</th>\n",
       "      <td>396</td>\n",
       "      <td>339</td>\n",
       "      <td>13.6</td>\n",
       "      <td>69</td>\n",
       "      <td>False</td>\n",
       "      <td>42249</td>\n",
       "      <td>16</td>\n",
       "      <td>26.400000</td>\n",
       "      <td>0</td>\n",
       "      <td>0</td>\n",
       "      <td>1</td>\n",
       "      <td>0</td>\n",
       "      <td>0</td>\n",
       "      <td>0</td>\n",
       "      <td>0</td>\n",
       "      <td>0</td>\n",
       "      <td>1</td>\n",
       "      <td>0</td>\n",
       "      <td>0</td>\n",
       "    </tr>\n",
       "    <tr>\n",
       "      <th>2</th>\n",
       "      <td>1023</td>\n",
       "      <td>242</td>\n",
       "      <td>12.5</td>\n",
       "      <td>114</td>\n",
       "      <td>True</td>\n",
       "      <td>46383</td>\n",
       "      <td>3</td>\n",
       "      <td>23.258889</td>\n",
       "      <td>0</td>\n",
       "      <td>0</td>\n",
       "      <td>1</td>\n",
       "      <td>0</td>\n",
       "      <td>0</td>\n",
       "      <td>1</td>\n",
       "      <td>0</td>\n",
       "      <td>0</td>\n",
       "      <td>0</td>\n",
       "      <td>0</td>\n",
       "      <td>0</td>\n",
       "    </tr>\n",
       "    <tr>\n",
       "      <th>3</th>\n",
       "      <td>886</td>\n",
       "      <td>283</td>\n",
       "      <td>14.5</td>\n",
       "      <td>113</td>\n",
       "      <td>True</td>\n",
       "      <td>34986</td>\n",
       "      <td>9</td>\n",
       "      <td>19.200000</td>\n",
       "      <td>0</td>\n",
       "      <td>0</td>\n",
       "      <td>1</td>\n",
       "      <td>0</td>\n",
       "      <td>0</td>\n",
       "      <td>0</td>\n",
       "      <td>0</td>\n",
       "      <td>0</td>\n",
       "      <td>1</td>\n",
       "      <td>0</td>\n",
       "      <td>0</td>\n",
       "    </tr>\n",
       "    <tr>\n",
       "      <th>4</th>\n",
       "      <td>2311</td>\n",
       "      <td>872</td>\n",
       "      <td>14.1</td>\n",
       "      <td>533</td>\n",
       "      <td>False</td>\n",
       "      <td>36323</td>\n",
       "      <td>9</td>\n",
       "      <td>15.400000</td>\n",
       "      <td>1</td>\n",
       "      <td>0</td>\n",
       "      <td>0</td>\n",
       "      <td>0</td>\n",
       "      <td>1</td>\n",
       "      <td>0</td>\n",
       "      <td>0</td>\n",
       "      <td>0</td>\n",
       "      <td>0</td>\n",
       "      <td>0</td>\n",
       "      <td>0</td>\n",
       "    </tr>\n",
       "  </tbody>\n",
       "</table>\n",
       "</div>"
      ],
      "text/plain": [
       "   No_Of_Orders   Age  Average_Rating  No_of_Ratings  is_business  \\\n",
       "0          1637  1309            13.8            549         True   \n",
       "1           396   339            13.6             69        False   \n",
       "2          1023   242            12.5            114         True   \n",
       "3           886   283            14.5            113         True   \n",
       "4          2311   872            14.1            533        False   \n",
       "\n",
       "   Pickup_time  Distance  Temperature  Platform_type_1  Platform_type_2  \\\n",
       "0        37650         4    20.400000                0                0   \n",
       "1        42249        16    26.400000                0                0   \n",
       "2        46383         3    23.258889                0                0   \n",
       "3        34986         9    19.200000                0                0   \n",
       "4        36323         9    15.400000                1                0   \n",
       "\n",
       "   Platform_type_3  Platform_type_4  Pickup_weekday_1  Pickup_weekday_2  \\\n",
       "0                1                0                 0                 0   \n",
       "1                1                0                 0                 0   \n",
       "2                1                0                 0                 1   \n",
       "3                1                0                 0                 0   \n",
       "4                0                0                 1                 0   \n",
       "\n",
       "   Pickup_weekday_3  Pickup_weekday_4  Pickup_weekday_5  Pickup_weekday_6  \\\n",
       "0                 0                 0                 1                 0   \n",
       "1                 0                 0                 1                 0   \n",
       "2                 0                 0                 0                 0   \n",
       "3                 0                 0                 1                 0   \n",
       "4                 0                 0                 0                 0   \n",
       "\n",
       "   Pickup_weekday_7  \n",
       "0                 0  \n",
       "1                 0  \n",
       "2                 0  \n",
       "3                 0  \n",
       "4                 0  "
      ]
     },
     "execution_count": 236,
     "metadata": {},
     "output_type": "execute_result"
    }
   ],
   "source": [
    "X.head()"
   ]
  },
  {
   "cell_type": "code",
   "execution_count": 237,
   "metadata": {},
   "outputs": [
    {
     "data": {
      "text/html": [
       "<div>\n",
       "<style scoped>\n",
       "    .dataframe tbody tr th:only-of-type {\n",
       "        vertical-align: middle;\n",
       "    }\n",
       "\n",
       "    .dataframe tbody tr th {\n",
       "        vertical-align: top;\n",
       "    }\n",
       "\n",
       "    .dataframe thead th {\n",
       "        text-align: right;\n",
       "    }\n",
       "</style>\n",
       "<table border=\"1\" class=\"dataframe\">\n",
       "  <thead>\n",
       "    <tr style=\"text-align: right;\">\n",
       "      <th></th>\n",
       "      <th>PC1</th>\n",
       "      <th>PC2</th>\n",
       "      <th>PC3</th>\n",
       "      <th>PC4</th>\n",
       "      <th>PC5</th>\n",
       "      <th>PC6</th>\n",
       "      <th>PC7</th>\n",
       "      <th>PC8</th>\n",
       "      <th>PC9</th>\n",
       "      <th>PC10</th>\n",
       "      <th>PC11</th>\n",
       "      <th>PC12</th>\n",
       "      <th>PC13</th>\n",
       "      <th>PC14</th>\n",
       "      <th>PC15</th>\n",
       "      <th>PC16</th>\n",
       "      <th>PC17</th>\n",
       "      <th>PC18</th>\n",
       "      <th>PC19</th>\n",
       "    </tr>\n",
       "  </thead>\n",
       "  <tbody>\n",
       "    <tr>\n",
       "      <th>0</th>\n",
       "      <td>-0.326391</td>\n",
       "      <td>0.546021</td>\n",
       "      <td>0.606821</td>\n",
       "      <td>-0.986409</td>\n",
       "      <td>-0.341532</td>\n",
       "      <td>-0.993828</td>\n",
       "      <td>2.180667</td>\n",
       "      <td>-0.303655</td>\n",
       "      <td>-0.624315</td>\n",
       "      <td>-0.552776</td>\n",
       "      <td>-0.162991</td>\n",
       "      <td>0.215596</td>\n",
       "      <td>0.851901</td>\n",
       "      <td>0.019545</td>\n",
       "      <td>0.188760</td>\n",
       "      <td>0.058116</td>\n",
       "      <td>-0.444498</td>\n",
       "      <td>-2.273830e-15</td>\n",
       "      <td>-1.054765e-15</td>\n",
       "    </tr>\n",
       "    <tr>\n",
       "      <th>1</th>\n",
       "      <td>0.079042</td>\n",
       "      <td>-1.489349</td>\n",
       "      <td>-0.885392</td>\n",
       "      <td>-1.116694</td>\n",
       "      <td>-0.227419</td>\n",
       "      <td>-0.826913</td>\n",
       "      <td>1.571602</td>\n",
       "      <td>0.282828</td>\n",
       "      <td>-0.165773</td>\n",
       "      <td>0.732741</td>\n",
       "      <td>-0.068451</td>\n",
       "      <td>-0.100587</td>\n",
       "      <td>-1.054772</td>\n",
       "      <td>-1.184030</td>\n",
       "      <td>-0.179353</td>\n",
       "      <td>-2.102727</td>\n",
       "      <td>-0.059269</td>\n",
       "      <td>2.057328e-16</td>\n",
       "      <td>-3.124877e-15</td>\n",
       "    </tr>\n",
       "    <tr>\n",
       "      <th>2</th>\n",
       "      <td>-1.135499</td>\n",
       "      <td>-1.075047</td>\n",
       "      <td>0.612791</td>\n",
       "      <td>-0.584299</td>\n",
       "      <td>-1.785151</td>\n",
       "      <td>0.535213</td>\n",
       "      <td>-0.932181</td>\n",
       "      <td>-0.125338</td>\n",
       "      <td>-0.225720</td>\n",
       "      <td>-0.100971</td>\n",
       "      <td>-0.205067</td>\n",
       "      <td>1.594385</td>\n",
       "      <td>0.826167</td>\n",
       "      <td>-0.185911</td>\n",
       "      <td>-0.677424</td>\n",
       "      <td>0.057854</td>\n",
       "      <td>0.072539</td>\n",
       "      <td>3.992637e-16</td>\n",
       "      <td>-6.595230e-16</td>\n",
       "    </tr>\n",
       "    <tr>\n",
       "      <th>3</th>\n",
       "      <td>-0.703489</td>\n",
       "      <td>-1.111798</td>\n",
       "      <td>1.132394</td>\n",
       "      <td>-0.965036</td>\n",
       "      <td>-0.270407</td>\n",
       "      <td>-0.978332</td>\n",
       "      <td>2.302218</td>\n",
       "      <td>-0.116036</td>\n",
       "      <td>-0.745880</td>\n",
       "      <td>-0.249201</td>\n",
       "      <td>-0.029093</td>\n",
       "      <td>-0.774099</td>\n",
       "      <td>0.133841</td>\n",
       "      <td>0.049381</td>\n",
       "      <td>-0.449481</td>\n",
       "      <td>0.056731</td>\n",
       "      <td>0.056864</td>\n",
       "      <td>-1.948215e-15</td>\n",
       "      <td>1.207119e-15</td>\n",
       "    </tr>\n",
       "    <tr>\n",
       "      <th>4</th>\n",
       "      <td>4.396897</td>\n",
       "      <td>-0.640809</td>\n",
       "      <td>2.013492</td>\n",
       "      <td>-0.058529</td>\n",
       "      <td>1.265764</td>\n",
       "      <td>-1.550468</td>\n",
       "      <td>-0.859215</td>\n",
       "      <td>0.931468</td>\n",
       "      <td>-1.528937</td>\n",
       "      <td>-0.786837</td>\n",
       "      <td>-0.043426</td>\n",
       "      <td>0.087340</td>\n",
       "      <td>0.000172</td>\n",
       "      <td>0.173325</td>\n",
       "      <td>-0.697758</td>\n",
       "      <td>-0.050523</td>\n",
       "      <td>0.118247</td>\n",
       "      <td>3.089543e-15</td>\n",
       "      <td>1.150622e-14</td>\n",
       "    </tr>\n",
       "  </tbody>\n",
       "</table>\n",
       "</div>"
      ],
      "text/plain": [
       "        PC1       PC2       PC3       PC4       PC5       PC6       PC7  \\\n",
       "0 -0.326391  0.546021  0.606821 -0.986409 -0.341532 -0.993828  2.180667   \n",
       "1  0.079042 -1.489349 -0.885392 -1.116694 -0.227419 -0.826913  1.571602   \n",
       "2 -1.135499 -1.075047  0.612791 -0.584299 -1.785151  0.535213 -0.932181   \n",
       "3 -0.703489 -1.111798  1.132394 -0.965036 -0.270407 -0.978332  2.302218   \n",
       "4  4.396897 -0.640809  2.013492 -0.058529  1.265764 -1.550468 -0.859215   \n",
       "\n",
       "        PC8       PC9      PC10      PC11      PC12      PC13      PC14  \\\n",
       "0 -0.303655 -0.624315 -0.552776 -0.162991  0.215596  0.851901  0.019545   \n",
       "1  0.282828 -0.165773  0.732741 -0.068451 -0.100587 -1.054772 -1.184030   \n",
       "2 -0.125338 -0.225720 -0.100971 -0.205067  1.594385  0.826167 -0.185911   \n",
       "3 -0.116036 -0.745880 -0.249201 -0.029093 -0.774099  0.133841  0.049381   \n",
       "4  0.931468 -1.528937 -0.786837 -0.043426  0.087340  0.000172  0.173325   \n",
       "\n",
       "       PC15      PC16      PC17          PC18          PC19  \n",
       "0  0.188760  0.058116 -0.444498 -2.273830e-15 -1.054765e-15  \n",
       "1 -0.179353 -2.102727 -0.059269  2.057328e-16 -3.124877e-15  \n",
       "2 -0.677424  0.057854  0.072539  3.992637e-16 -6.595230e-16  \n",
       "3 -0.449481  0.056731  0.056864 -1.948215e-15  1.207119e-15  \n",
       "4 -0.697758 -0.050523  0.118247  3.089543e-15  1.150622e-14  "
      ]
     },
     "execution_count": 237,
     "metadata": {},
     "output_type": "execute_result"
    }
   ],
   "source": [
    "pca = PCA()\n",
    "scaled_df = pd.DataFrame(scaler.fit_transform(X), columns=X.columns)\n",
    "\n",
    "pc_scores = pca.fit_transform(scaled_df)\n",
    "PC_NUMBERS = np.arange(1, scaled_df.shape[1]+1)\n",
    "PC_LABELS = ['PC'+str(i) for i in PC_NUMBERS]\n",
    "pc_scores = pd.DataFrame(pc_scores, columns=PC_LABELS)\n",
    "pc_scores.head()"
   ]
  },
  {
   "cell_type": "code",
   "execution_count": 238,
   "metadata": {},
   "outputs": [],
   "source": [
    "loadings = pd.DataFrame(pca.components_, columns=scaled_df.columns, index=PC_LABELS)\n",
    "\n",
    "variance_explained = pd.DataFrame(\n",
    "    {\n",
    "        'PC': PC_NUMBERS,\n",
    "        'Proportion': pca.explained_variance_ratio_\n",
    "    }\n",
    ")\n",
    "variance_explained[\"Cumulative\"] = variance_explained.Proportion.cumsum()"
   ]
  },
  {
   "cell_type": "code",
   "execution_count": 239,
   "metadata": {},
   "outputs": [
    {
     "data": {
      "text/plain": [
       "Text(0.5, 1.0, 'Scree Plot')"
      ]
     },
     "execution_count": 239,
     "metadata": {},
     "output_type": "execute_result"
    },
    {
     "data": {
      "image/png": "[encoded data removed]",
      "text/plain": [
       "<Figure size 1600x400 with 1 Axes>"
      ]
     },
     "metadata": {},
     "output_type": "display_data"
    }
   ],
   "source": [
    "plt.figure(figsize=(16, 4))\n",
    "sns.pointplot(\n",
    "    x=\"PC\", y=\"Proportion\",\n",
    "    data=variance_explained\n",
    ").set_title('Scree Plot')"
   ]
  },
  {
   "cell_type": "code",
   "execution_count": 240,
   "metadata": {},
   "outputs": [
    {
     "data": {
      "text/plain": [
       "<matplotlib.lines.Line2D at 0x2214be9a100>"
      ]
     },
     "execution_count": 240,
     "metadata": {},
     "output_type": "execute_result"
    },
    {
     "data": {
      "image/png": "[encoded data removed]",
      "text/plain": [
       "<Figure size 1600x400 with 1 Axes>"
      ]
     },
     "metadata": {},
     "output_type": "display_data"
    }
   ],
   "source": [
    "plt.figure(figsize=(16, 4))\n",
    "plot = sns.pointplot(\n",
    "    x=\"PC\", y=\"Cumulative\",\n",
    "    data=variance_explained\n",
    ")\n",
    "plot.set_title('Cumulative Variance Plot')\n",
    "plot.axhline(0.95, color = \"black\", linestyle='--')"
   ]
  },
  {
   "cell_type": "markdown",
   "metadata": {},
   "source": [
    "# Linear model using 3 most weighted features"
   ]
  },
  {
   "cell_type": "code",
   "execution_count": 35,
   "metadata": {},
   "outputs": [],
   "source": [
    "#Using smaller set of data\n",
    "useful = [\"No_Of_Orders\", \"Distance\", \"No_of_Ratings\"]"
   ]
  },
  {
   "cell_type": "code",
   "execution_count": 36,
   "metadata": {},
   "outputs": [],
   "source": [
    "X = df[features]\n",
    "y= df[\"Travel_time\"]"
   ]
  },
  {
   "cell_type": "code",
   "execution_count": 37,
   "metadata": {},
   "outputs": [
    {
     "data": {
      "text/html": [
       "<style>#sk-container-id-3 {color: black;background-color: white;}#sk-container-id-3 pre{padding: 0;}#sk-container-id-3 div.sk-toggleable {background-color: white;}#sk-container-id-3 label.sk-toggleable__label {cursor: pointer;display: block;width: 100%;margin-bottom: 0;padding: 0.3em;box-sizing: border-box;text-align: center;}#sk-container-id-3 label.sk-toggleable__label-arrow:before {content: \"▸\";float: left;margin-right: 0.25em;color: #696969;}#sk-container-id-3 label.sk-toggleable__label-arrow:hover:before {color: black;}#sk-container-id-3 div.sk-estimator:hover label.sk-toggleable__label-arrow:before {color: black;}#sk-container-id-3 div.sk-toggleable__content {max-height: 0;max-width: 0;overflow: hidden;text-align: left;background-color: #f0f8ff;}#sk-container-id-3 div.sk-toggleable__content pre {margin: 0.2em;color: black;border-radius: 0.25em;background-color: #f0f8ff;}#sk-container-id-3 input.sk-toggleable__control:checked~div.sk-toggleable__content {max-height: 200px;max-width: 100%;overflow: auto;}#sk-container-id-3 input.sk-toggleable__control:checked~label.sk-toggleable__label-arrow:before {content: \"▾\";}#sk-container-id-3 div.sk-estimator input.sk-toggleable__control:checked~label.sk-toggleable__label {background-color: #d4ebff;}#sk-container-id-3 div.sk-label input.sk-toggleable__control:checked~label.sk-toggleable__label {background-color: #d4ebff;}#sk-container-id-3 input.sk-hidden--visually {border: 0;clip: rect(1px 1px 1px 1px);clip: rect(1px, 1px, 1px, 1px);height: 1px;margin: -1px;overflow: hidden;padding: 0;position: absolute;width: 1px;}#sk-container-id-3 div.sk-estimator {font-family: monospace;background-color: #f0f8ff;border: 1px dotted black;border-radius: 0.25em;box-sizing: border-box;margin-bottom: 0.5em;}#sk-container-id-3 div.sk-estimator:hover {background-color: #d4ebff;}#sk-container-id-3 div.sk-parallel-item::after {content: \"\";width: 100%;border-bottom: 1px solid gray;flex-grow: 1;}#sk-container-id-3 div.sk-label:hover label.sk-toggleable__label {background-color: #d4ebff;}#sk-container-id-3 div.sk-serial::before {content: \"\";position: absolute;border-left: 1px solid gray;box-sizing: border-box;top: 0;bottom: 0;left: 50%;z-index: 0;}#sk-container-id-3 div.sk-serial {display: flex;flex-direction: column;align-items: center;background-color: white;padding-right: 0.2em;padding-left: 0.2em;position: relative;}#sk-container-id-3 div.sk-item {position: relative;z-index: 1;}#sk-container-id-3 div.sk-parallel {display: flex;align-items: stretch;justify-content: center;background-color: white;position: relative;}#sk-container-id-3 div.sk-item::before, #sk-container-id-3 div.sk-parallel-item::before {content: \"\";position: absolute;border-left: 1px solid gray;box-sizing: border-box;top: 0;bottom: 0;left: 50%;z-index: -1;}#sk-container-id-3 div.sk-parallel-item {display: flex;flex-direction: column;z-index: 1;position: relative;background-color: white;}#sk-container-id-3 div.sk-parallel-item:first-child::after {align-self: flex-end;width: 50%;}#sk-container-id-3 div.sk-parallel-item:last-child::after {align-self: flex-start;width: 50%;}#sk-container-id-3 div.sk-parallel-item:only-child::after {width: 0;}#sk-container-id-3 div.sk-dashed-wrapped {border: 1px dashed gray;margin: 0 0.4em 0.5em 0.4em;box-sizing: border-box;padding-bottom: 0.4em;background-color: white;}#sk-container-id-3 div.sk-label label {font-family: monospace;font-weight: bold;display: inline-block;line-height: 1.2em;}#sk-container-id-3 div.sk-label-container {text-align: center;}#sk-container-id-3 div.sk-container {/* jupyter's `normalize.less` sets `[hidden] { display: none; }` but bootstrap.min.css set `[hidden] { display: none !important; }` so we also need the `!important` here to be able to override the default hidden behavior on the sphinx rendered scikit-learn.org. See: https://github.com/scikit-learn/scikit-learn/issues/21755 */display: inline-block !important;position: relative;}#sk-container-id-3 div.sk-text-repr-fallback {display: none;}</style><div id=\"sk-container-id-3\" class=\"sk-top-container\"><div class=\"sk-text-repr-fallback\"><pre>LinearRegression()</pre><b>In a Jupyter environment, please rerun this cell to show the HTML representation or trust the notebook. <br />On GitHub, the HTML representation is unable to render, please try loading this page with nbviewer.org.</b></div><div class=\"sk-container\" hidden><div class=\"sk-item\"><div class=\"sk-estimator sk-toggleable\"><input class=\"sk-toggleable__control sk-hidden--visually\" id=\"sk-estimator-id-3\" type=\"checkbox\" checked><label for=\"sk-estimator-id-3\" class=\"sk-toggleable__label sk-toggleable__label-arrow\">LinearRegression</label><div class=\"sk-toggleable__content\"><pre>LinearRegression()</pre></div></div></div></div></div>"
      ],
      "text/plain": [
       "LinearRegression()"
      ]
     },
     "execution_count": 37,
     "metadata": {},
     "output_type": "execute_result"
    }
   ],
   "source": [
    "X_train, X_test, y_train, y_test = train_test_split(X[useful], y, test_size=0.2, random_state=13)\n",
    "#Standardizing\n",
    "\n",
    "model.fit(X_train, y_train)"
   ]
  },
  {
   "cell_type": "code",
   "execution_count": 38,
   "metadata": {},
   "outputs": [],
   "source": [
    "y_pred = model.predict(X_test)\n",
    "MSE = mean_squared_error(y_true=y_test, y_pred=y_pred)\n",
    "r2 = r2_score(y_true=y_test, y_pred=y_pred)\n",
    "MAE = mean_absolute_error(y_true=y_test, y_pred=y_pred)"
   ]
  },
  {
   "cell_type": "code",
   "execution_count": 39,
   "metadata": {},
   "outputs": [
    {
     "data": {
      "text/plain": [
       "654583.8658904966"
      ]
     },
     "execution_count": 39,
     "metadata": {},
     "output_type": "execute_result"
    }
   ],
   "source": [
    "MSE"
   ]
  },
  {
   "cell_type": "code",
   "execution_count": 40,
   "metadata": {},
   "outputs": [
    {
     "data": {
      "text/plain": [
       "558.3107598177269"
      ]
     },
     "execution_count": 40,
     "metadata": {},
     "output_type": "execute_result"
    }
   ],
   "source": [
    "MAE"
   ]
  },
  {
   "cell_type": "code",
   "execution_count": 41,
   "metadata": {},
   "outputs": [
    {
     "data": {
      "text/plain": [
       "0.3503481064931423"
      ]
     },
     "execution_count": 41,
     "metadata": {},
     "output_type": "execute_result"
    }
   ],
   "source": [
    "r2"
   ]
  },
  {
   "cell_type": "markdown",
   "metadata": {},
   "source": [
    "# Linear regression model using all data (not normalized)"
   ]
  },
  {
   "cell_type": "code",
   "execution_count": 43,
   "metadata": {},
   "outputs": [],
   "source": [
    "model = LinearRegression()\n",
    "\n",
    "X_train, X_test, y_train, y_test = train_test_split(X, y, test_size=0.2, random_state=13)\n",
    "\n",
    "model.fit(X_train, y_train)\n",
    "\n",
    "y_pred = model.predict(X_test)\n",
    "MSE = mean_squared_error(y_true=y_test, y_pred=y_pred)\n",
    "r2 = r2_score(y_true=y_test, y_pred=y_pred)\n",
    "MAE = mean_absolute_error(y_true=y_test, y_pred=y_pred)"
   ]
  },
  {
   "cell_type": "code",
   "execution_count": 44,
   "metadata": {},
   "outputs": [
    {
     "data": {
      "text/plain": [
       "649760.5575386242"
      ]
     },
     "execution_count": 44,
     "metadata": {},
     "output_type": "execute_result"
    }
   ],
   "source": [
    "MSE"
   ]
  },
  {
   "cell_type": "code",
   "execution_count": 45,
   "metadata": {},
   "outputs": [
    {
     "data": {
      "text/plain": [
       "555.8217890878578"
      ]
     },
     "execution_count": 45,
     "metadata": {},
     "output_type": "execute_result"
    }
   ],
   "source": [
    "MAE"
   ]
  },
  {
   "cell_type": "code",
   "execution_count": 46,
   "metadata": {},
   "outputs": [
    {
     "data": {
      "text/plain": [
       "0.3551350735527392"
      ]
     },
     "execution_count": 46,
     "metadata": {},
     "output_type": "execute_result"
    }
   ],
   "source": [
    "r2"
   ]
  },
  {
   "cell_type": "markdown",
   "metadata": {},
   "source": [
    "# Linear model with top 10 features"
   ]
  },
  {
   "cell_type": "code",
   "execution_count": 105,
   "metadata": {},
   "outputs": [
    {
     "data": {
      "text/plain": [
       "Index(['Distance', 'No_Of_Orders', 'No_of_Ratings', 'Average_Rating',\n",
       "       'Pickup_weekday_6', 'Pickup_time', 'Pickup_weekday_1',\n",
       "       'Pickup_weekday_5', 'is_business', 'Pickup_weekday_2'],\n",
       "      dtype='object')"
      ]
     },
     "execution_count": 105,
     "metadata": {},
     "output_type": "execute_result"
    }
   ],
   "source": [
    "topx = feature_ranking.index[0:10]\n",
    "topx"
   ]
  },
  {
   "cell_type": "code",
   "execution_count": 114,
   "metadata": {},
   "outputs": [],
   "source": [
    "X_train, X_test, y_train, y_test = train_test_split(X[topx], y, test_size=0.2, random_state=13)\n",
    "\n",
    "model.fit(X_train, y_train)\n",
    "\n",
    "y_pred = model.predict(X_test)\n",
    "MSE = mean_squared_error(y_true=y_test, y_pred=y_pred)\n",
    "r2 = r2_score(y_true=y_test, y_pred=y_pred)\n",
    "MAE = mean_absolute_error(y_true=y_test, y_pred=y_pred)"
   ]
  },
  {
   "cell_type": "code",
   "execution_count": 107,
   "metadata": {},
   "outputs": [
    {
     "data": {
      "text/plain": [
       "648095.8257167783"
      ]
     },
     "execution_count": 107,
     "metadata": {},
     "output_type": "execute_result"
    }
   ],
   "source": [
    "MSE"
   ]
  },
  {
   "cell_type": "code",
   "execution_count": 108,
   "metadata": {},
   "outputs": [
    {
     "data": {
      "text/plain": [
       "554.8573679618002"
      ]
     },
     "execution_count": 108,
     "metadata": {},
     "output_type": "execute_result"
    }
   ],
   "source": [
    "MAE"
   ]
  },
  {
   "cell_type": "code",
   "execution_count": 109,
   "metadata": {},
   "outputs": [
    {
     "data": {
      "text/plain": [
       "0.3567872624266156"
      ]
     },
     "execution_count": 109,
     "metadata": {},
     "output_type": "execute_result"
    }
   ],
   "source": [
    "r2"
   ]
  },
  {
   "cell_type": "code",
   "execution_count": null,
   "metadata": {},
   "outputs": [],
   "source": [
    "#8\n",
    "#9 554.9107\n",
    "#10 554.8573679618002\n",
    "#11\n",
    "#12\n",
    "#15 555.89"
   ]
  },
  {
   "cell_type": "markdown",
   "metadata": {},
   "source": [
    "# PCA model top 14 PCs"
   ]
  },
  {
   "cell_type": "code",
   "execution_count": 269,
   "metadata": {},
   "outputs": [],
   "source": [
    "pc_14 = pc_scores.columns"
   ]
  },
  {
   "cell_type": "code",
   "execution_count": 270,
   "metadata": {},
   "outputs": [],
   "source": [
    "X_train, X_test, y_train, y_test = train_test_split(pc_scores[pc_14], y, test_size=0.2, random_state=13)\n",
    "\n",
    "model.fit(X_train, y_train)\n",
    "\n",
    "y_pred = model.predict(X_test)\n",
    "MSE = mean_squared_error(y_true=y_test, y_pred=y_pred)\n",
    "r2 = r2_score(y_true=y_test, y_pred=y_pred)\n",
    "MAE = mean_absolute_error(y_true=y_test, y_pred=y_pred)"
   ]
  },
  {
   "cell_type": "code",
   "execution_count": 271,
   "metadata": {},
   "outputs": [
    {
     "data": {
      "text/plain": [
       "649714.1421577141"
      ]
     },
     "execution_count": 271,
     "metadata": {},
     "output_type": "execute_result"
    }
   ],
   "source": [
    "MSE"
   ]
  },
  {
   "cell_type": "code",
   "execution_count": 272,
   "metadata": {},
   "outputs": [
    {
     "data": {
      "text/plain": [
       "555.7916714512243"
      ]
     },
     "execution_count": 272,
     "metadata": {},
     "output_type": "execute_result"
    }
   ],
   "source": [
    "MAE"
   ]
  },
  {
   "cell_type": "code",
   "execution_count": 273,
   "metadata": {},
   "outputs": [
    {
     "data": {
      "text/plain": [
       "0.3551811392162353"
      ]
     },
     "execution_count": 273,
     "metadata": {},
     "output_type": "execute_result"
    }
   ],
   "source": [
    "r2"
   ]
  },
  {
   "cell_type": "code",
   "execution_count": null,
   "metadata": {},
   "outputs": [],
   "source": []
  }
 ],
 "metadata": {
  "kernelspec": {
   "display_name": "sendy",
   "language": "python",
   "name": "python3"
  },
  "language_info": {
   "codemirror_mode": {
    "name": "ipython",
    "version": 3
   },
   "file_extension": ".py",
   "mimetype": "text/x-python",
   "name": "python",
   "nbconvert_exporter": "python",
   "pygments_lexer": "ipython3",
   "version": "3.9.17"
  },
  "orig_nbformat": 4
 },
 "nbformat": 4,
 "nbformat_minor": 2
}
