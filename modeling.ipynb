{
 "cells": [
  {
   "cell_type": "markdown",
   "metadata": {},
   "source": [
    "Load Packages"
   ]
  },
  {
   "cell_type": "code",
   "execution_count": 111,
   "metadata": {},
   "outputs": [],
   "source": [
    "import math\n",
    "import numpy as np\n",
    "import pandas as pd\n",
    "import seaborn as sns\n",
    "\n",
    "from sklearn import datasets\n",
    "from sklearn.model_selection import train_test_split\n",
    "from sklearn.linear_model import LinearRegression\n",
    "from sklearn.metrics import mean_squared_error, mean_absolute_error, r2_score, SCORERS\n",
    "from sklearn.model_selection import cross_validate, cross_val_score\n",
    "from sklearn.preprocessing import StandardScaler\n",
    "\n",
    "import statsmodels.api as sm\n"
   ]
  },
  {
   "cell_type": "code",
   "execution_count": 11,
   "metadata": {},
   "outputs": [],
   "source": [
    "#Load data\n",
    "df = pd.read_pickle(\"clean_training.pkl\")"
   ]
  },
  {
   "cell_type": "code",
   "execution_count": 12,
   "metadata": {},
   "outputs": [
    {
     "data": {
      "text/html": [
       "<div>\n",
       "<style scoped>\n",
       "    .dataframe tbody tr th:only-of-type {\n",
       "        vertical-align: middle;\n",
       "    }\n",
       "\n",
       "    .dataframe tbody tr th {\n",
       "        vertical-align: top;\n",
       "    }\n",
       "\n",
       "    .dataframe thead th {\n",
       "        text-align: right;\n",
       "    }\n",
       "</style>\n",
       "<table border=\"1\" class=\"dataframe\">\n",
       "  <thead>\n",
       "    <tr style=\"text-align: right;\">\n",
       "      <th></th>\n",
       "      <th>Rider_id</th>\n",
       "      <th>No_Of_Orders</th>\n",
       "      <th>Age</th>\n",
       "      <th>Average_Rating</th>\n",
       "      <th>No_of_Ratings</th>\n",
       "      <th>Platform_type</th>\n",
       "      <th>is_business</th>\n",
       "      <th>Pickup_weekday</th>\n",
       "      <th>Pickup_time</th>\n",
       "      <th>Distance</th>\n",
       "      <th>Temperature</th>\n",
       "      <th>Travel_time</th>\n",
       "    </tr>\n",
       "  </thead>\n",
       "  <tbody>\n",
       "    <tr>\n",
       "      <th>0</th>\n",
       "      <td>Rider_Id_432</td>\n",
       "      <td>1637</td>\n",
       "      <td>1309</td>\n",
       "      <td>13.8</td>\n",
       "      <td>549</td>\n",
       "      <td>3</td>\n",
       "      <td>True</td>\n",
       "      <td>5</td>\n",
       "      <td>37650</td>\n",
       "      <td>4</td>\n",
       "      <td>20.400000</td>\n",
       "      <td>745</td>\n",
       "    </tr>\n",
       "    <tr>\n",
       "      <th>1</th>\n",
       "      <td>Rider_Id_856</td>\n",
       "      <td>396</td>\n",
       "      <td>339</td>\n",
       "      <td>13.6</td>\n",
       "      <td>69</td>\n",
       "      <td>3</td>\n",
       "      <td>False</td>\n",
       "      <td>5</td>\n",
       "      <td>42249</td>\n",
       "      <td>16</td>\n",
       "      <td>26.400000</td>\n",
       "      <td>1993</td>\n",
       "    </tr>\n",
       "    <tr>\n",
       "      <th>2</th>\n",
       "      <td>Rider_Id_155</td>\n",
       "      <td>1023</td>\n",
       "      <td>242</td>\n",
       "      <td>12.5</td>\n",
       "      <td>114</td>\n",
       "      <td>3</td>\n",
       "      <td>True</td>\n",
       "      <td>2</td>\n",
       "      <td>46383</td>\n",
       "      <td>3</td>\n",
       "      <td>23.258889</td>\n",
       "      <td>455</td>\n",
       "    </tr>\n",
       "    <tr>\n",
       "      <th>3</th>\n",
       "      <td>Rider_Id_855</td>\n",
       "      <td>886</td>\n",
       "      <td>283</td>\n",
       "      <td>14.5</td>\n",
       "      <td>113</td>\n",
       "      <td>3</td>\n",
       "      <td>True</td>\n",
       "      <td>5</td>\n",
       "      <td>34986</td>\n",
       "      <td>9</td>\n",
       "      <td>19.200000</td>\n",
       "      <td>1341</td>\n",
       "    </tr>\n",
       "    <tr>\n",
       "      <th>4</th>\n",
       "      <td>Rider_Id_770</td>\n",
       "      <td>2311</td>\n",
       "      <td>872</td>\n",
       "      <td>14.1</td>\n",
       "      <td>533</td>\n",
       "      <td>1</td>\n",
       "      <td>False</td>\n",
       "      <td>1</td>\n",
       "      <td>36323</td>\n",
       "      <td>9</td>\n",
       "      <td>15.400000</td>\n",
       "      <td>1214</td>\n",
       "    </tr>\n",
       "    <tr>\n",
       "      <th>...</th>\n",
       "      <td>...</td>\n",
       "      <td>...</td>\n",
       "      <td>...</td>\n",
       "      <td>...</td>\n",
       "      <td>...</td>\n",
       "      <td>...</td>\n",
       "      <td>...</td>\n",
       "      <td>...</td>\n",
       "      <td>...</td>\n",
       "      <td>...</td>\n",
       "      <td>...</td>\n",
       "      <td>...</td>\n",
       "    </tr>\n",
       "    <tr>\n",
       "      <th>21196</th>\n",
       "      <td>Rider_Id_953</td>\n",
       "      <td>1270</td>\n",
       "      <td>367</td>\n",
       "      <td>14.4</td>\n",
       "      <td>131</td>\n",
       "      <td>3</td>\n",
       "      <td>False</td>\n",
       "      <td>3</td>\n",
       "      <td>58808</td>\n",
       "      <td>3</td>\n",
       "      <td>28.600000</td>\n",
       "      <td>9</td>\n",
       "    </tr>\n",
       "    <tr>\n",
       "      <th>21197</th>\n",
       "      <td>Rider_Id_155</td>\n",
       "      <td>1023</td>\n",
       "      <td>242</td>\n",
       "      <td>12.5</td>\n",
       "      <td>114</td>\n",
       "      <td>3</td>\n",
       "      <td>True</td>\n",
       "      <td>6</td>\n",
       "      <td>38007</td>\n",
       "      <td>7</td>\n",
       "      <td>26.000000</td>\n",
       "      <td>770</td>\n",
       "    </tr>\n",
       "    <tr>\n",
       "      <th>21198</th>\n",
       "      <td>Rider_Id_697</td>\n",
       "      <td>314</td>\n",
       "      <td>473</td>\n",
       "      <td>13.8</td>\n",
       "      <td>29</td>\n",
       "      <td>3</td>\n",
       "      <td>True</td>\n",
       "      <td>4</td>\n",
       "      <td>64252</td>\n",
       "      <td>20</td>\n",
       "      <td>29.200000</td>\n",
       "      <td>2953</td>\n",
       "    </tr>\n",
       "    <tr>\n",
       "      <th>21199</th>\n",
       "      <td>Rider_Id_347</td>\n",
       "      <td>2451</td>\n",
       "      <td>1821</td>\n",
       "      <td>14.0</td>\n",
       "      <td>1101</td>\n",
       "      <td>1</td>\n",
       "      <td>False</td>\n",
       "      <td>3</td>\n",
       "      <td>35115</td>\n",
       "      <td>13</td>\n",
       "      <td>15.000000</td>\n",
       "      <td>1380</td>\n",
       "    </tr>\n",
       "    <tr>\n",
       "      <th>21200</th>\n",
       "      <td>Rider_Id_177</td>\n",
       "      <td>526</td>\n",
       "      <td>286</td>\n",
       "      <td>13.6</td>\n",
       "      <td>70</td>\n",
       "      <td>3</td>\n",
       "      <td>True</td>\n",
       "      <td>2</td>\n",
       "      <td>52915</td>\n",
       "      <td>12</td>\n",
       "      <td>30.900000</td>\n",
       "      <td>2128</td>\n",
       "    </tr>\n",
       "  </tbody>\n",
       "</table>\n",
       "<p>21201 rows × 12 columns</p>\n",
       "</div>"
      ],
      "text/plain": [
       "           Rider_id  No_Of_Orders   Age  Average_Rating  No_of_Ratings  \\\n",
       "0      Rider_Id_432          1637  1309            13.8            549   \n",
       "1      Rider_Id_856           396   339            13.6             69   \n",
       "2      Rider_Id_155          1023   242            12.5            114   \n",
       "3      Rider_Id_855           886   283            14.5            113   \n",
       "4      Rider_Id_770          2311   872            14.1            533   \n",
       "...             ...           ...   ...             ...            ...   \n",
       "21196  Rider_Id_953          1270   367            14.4            131   \n",
       "21197  Rider_Id_155          1023   242            12.5            114   \n",
       "21198  Rider_Id_697           314   473            13.8             29   \n",
       "21199  Rider_Id_347          2451  1821            14.0           1101   \n",
       "21200  Rider_Id_177           526   286            13.6             70   \n",
       "\n",
       "      Platform_type  is_business Pickup_weekday  Pickup_time  Distance  \\\n",
       "0                 3         True              5        37650         4   \n",
       "1                 3        False              5        42249        16   \n",
       "2                 3         True              2        46383         3   \n",
       "3                 3         True              5        34986         9   \n",
       "4                 1        False              1        36323         9   \n",
       "...             ...          ...            ...          ...       ...   \n",
       "21196             3        False              3        58808         3   \n",
       "21197             3         True              6        38007         7   \n",
       "21198             3         True              4        64252        20   \n",
       "21199             1        False              3        35115        13   \n",
       "21200             3         True              2        52915        12   \n",
       "\n",
       "       Temperature  Travel_time  \n",
       "0        20.400000          745  \n",
       "1        26.400000         1993  \n",
       "2        23.258889          455  \n",
       "3        19.200000         1341  \n",
       "4        15.400000         1214  \n",
       "...            ...          ...  \n",
       "21196    28.600000            9  \n",
       "21197    26.000000          770  \n",
       "21198    29.200000         2953  \n",
       "21199    15.000000         1380  \n",
       "21200    30.900000         2128  \n",
       "\n",
       "[21201 rows x 12 columns]"
      ]
     },
     "execution_count": 12,
     "metadata": {},
     "output_type": "execute_result"
    }
   ],
   "source": [
    "df"
   ]
  },
  {
   "cell_type": "code",
   "execution_count": 13,
   "metadata": {},
   "outputs": [
    {
     "data": {
      "text/plain": [
       "Rider_id            object\n",
       "No_Of_Orders         int64\n",
       "Age                  int64\n",
       "Average_Rating     float64\n",
       "No_of_Ratings        int64\n",
       "Platform_type     category\n",
       "is_business           bool\n",
       "Pickup_weekday    category\n",
       "Pickup_time          int64\n",
       "Distance             int64\n",
       "Temperature        float64\n",
       "Travel_time          int64\n",
       "dtype: object"
      ]
     },
     "execution_count": 13,
     "metadata": {},
     "output_type": "execute_result"
    }
   ],
   "source": [
    "df.dtypes"
   ]
  },
  {
   "cell_type": "code",
   "execution_count": 14,
   "metadata": {},
   "outputs": [
    {
     "data": {
      "text/html": [
       "<div>\n",
       "<style scoped>\n",
       "    .dataframe tbody tr th:only-of-type {\n",
       "        vertical-align: middle;\n",
       "    }\n",
       "\n",
       "    .dataframe tbody tr th {\n",
       "        vertical-align: top;\n",
       "    }\n",
       "\n",
       "    .dataframe thead th {\n",
       "        text-align: right;\n",
       "    }\n",
       "</style>\n",
       "<table border=\"1\" class=\"dataframe\">\n",
       "  <thead>\n",
       "    <tr style=\"text-align: right;\">\n",
       "      <th></th>\n",
       "      <th>Platform_type_1</th>\n",
       "      <th>Platform_type_2</th>\n",
       "      <th>Platform_type_3</th>\n",
       "      <th>Platform_type_4</th>\n",
       "      <th>Pickup_weekday_1</th>\n",
       "      <th>Pickup_weekday_2</th>\n",
       "      <th>Pickup_weekday_3</th>\n",
       "      <th>Pickup_weekday_4</th>\n",
       "      <th>Pickup_weekday_5</th>\n",
       "      <th>Pickup_weekday_6</th>\n",
       "      <th>Pickup_weekday_7</th>\n",
       "    </tr>\n",
       "  </thead>\n",
       "  <tbody>\n",
       "    <tr>\n",
       "      <th>0</th>\n",
       "      <td>0</td>\n",
       "      <td>0</td>\n",
       "      <td>1</td>\n",
       "      <td>0</td>\n",
       "      <td>0</td>\n",
       "      <td>0</td>\n",
       "      <td>0</td>\n",
       "      <td>0</td>\n",
       "      <td>1</td>\n",
       "      <td>0</td>\n",
       "      <td>0</td>\n",
       "    </tr>\n",
       "    <tr>\n",
       "      <th>1</th>\n",
       "      <td>0</td>\n",
       "      <td>0</td>\n",
       "      <td>1</td>\n",
       "      <td>0</td>\n",
       "      <td>0</td>\n",
       "      <td>0</td>\n",
       "      <td>0</td>\n",
       "      <td>0</td>\n",
       "      <td>1</td>\n",
       "      <td>0</td>\n",
       "      <td>0</td>\n",
       "    </tr>\n",
       "    <tr>\n",
       "      <th>2</th>\n",
       "      <td>0</td>\n",
       "      <td>0</td>\n",
       "      <td>1</td>\n",
       "      <td>0</td>\n",
       "      <td>0</td>\n",
       "      <td>1</td>\n",
       "      <td>0</td>\n",
       "      <td>0</td>\n",
       "      <td>0</td>\n",
       "      <td>0</td>\n",
       "      <td>0</td>\n",
       "    </tr>\n",
       "    <tr>\n",
       "      <th>3</th>\n",
       "      <td>0</td>\n",
       "      <td>0</td>\n",
       "      <td>1</td>\n",
       "      <td>0</td>\n",
       "      <td>0</td>\n",
       "      <td>0</td>\n",
       "      <td>0</td>\n",
       "      <td>0</td>\n",
       "      <td>1</td>\n",
       "      <td>0</td>\n",
       "      <td>0</td>\n",
       "    </tr>\n",
       "    <tr>\n",
       "      <th>4</th>\n",
       "      <td>1</td>\n",
       "      <td>0</td>\n",
       "      <td>0</td>\n",
       "      <td>0</td>\n",
       "      <td>1</td>\n",
       "      <td>0</td>\n",
       "      <td>0</td>\n",
       "      <td>0</td>\n",
       "      <td>0</td>\n",
       "      <td>0</td>\n",
       "      <td>0</td>\n",
       "    </tr>\n",
       "    <tr>\n",
       "      <th>...</th>\n",
       "      <td>...</td>\n",
       "      <td>...</td>\n",
       "      <td>...</td>\n",
       "      <td>...</td>\n",
       "      <td>...</td>\n",
       "      <td>...</td>\n",
       "      <td>...</td>\n",
       "      <td>...</td>\n",
       "      <td>...</td>\n",
       "      <td>...</td>\n",
       "      <td>...</td>\n",
       "    </tr>\n",
       "    <tr>\n",
       "      <th>21196</th>\n",
       "      <td>0</td>\n",
       "      <td>0</td>\n",
       "      <td>1</td>\n",
       "      <td>0</td>\n",
       "      <td>0</td>\n",
       "      <td>0</td>\n",
       "      <td>1</td>\n",
       "      <td>0</td>\n",
       "      <td>0</td>\n",
       "      <td>0</td>\n",
       "      <td>0</td>\n",
       "    </tr>\n",
       "    <tr>\n",
       "      <th>21197</th>\n",
       "      <td>0</td>\n",
       "      <td>0</td>\n",
       "      <td>1</td>\n",
       "      <td>0</td>\n",
       "      <td>0</td>\n",
       "      <td>0</td>\n",
       "      <td>0</td>\n",
       "      <td>0</td>\n",
       "      <td>0</td>\n",
       "      <td>1</td>\n",
       "      <td>0</td>\n",
       "    </tr>\n",
       "    <tr>\n",
       "      <th>21198</th>\n",
       "      <td>0</td>\n",
       "      <td>0</td>\n",
       "      <td>1</td>\n",
       "      <td>0</td>\n",
       "      <td>0</td>\n",
       "      <td>0</td>\n",
       "      <td>0</td>\n",
       "      <td>1</td>\n",
       "      <td>0</td>\n",
       "      <td>0</td>\n",
       "      <td>0</td>\n",
       "    </tr>\n",
       "    <tr>\n",
       "      <th>21199</th>\n",
       "      <td>1</td>\n",
       "      <td>0</td>\n",
       "      <td>0</td>\n",
       "      <td>0</td>\n",
       "      <td>0</td>\n",
       "      <td>0</td>\n",
       "      <td>1</td>\n",
       "      <td>0</td>\n",
       "      <td>0</td>\n",
       "      <td>0</td>\n",
       "      <td>0</td>\n",
       "    </tr>\n",
       "    <tr>\n",
       "      <th>21200</th>\n",
       "      <td>0</td>\n",
       "      <td>0</td>\n",
       "      <td>1</td>\n",
       "      <td>0</td>\n",
       "      <td>0</td>\n",
       "      <td>1</td>\n",
       "      <td>0</td>\n",
       "      <td>0</td>\n",
       "      <td>0</td>\n",
       "      <td>0</td>\n",
       "      <td>0</td>\n",
       "    </tr>\n",
       "  </tbody>\n",
       "</table>\n",
       "<p>21201 rows × 11 columns</p>\n",
       "</div>"
      ],
      "text/plain": [
       "       Platform_type_1  Platform_type_2  Platform_type_3  Platform_type_4  \\\n",
       "0                    0                0                1                0   \n",
       "1                    0                0                1                0   \n",
       "2                    0                0                1                0   \n",
       "3                    0                0                1                0   \n",
       "4                    1                0                0                0   \n",
       "...                ...              ...              ...              ...   \n",
       "21196                0                0                1                0   \n",
       "21197                0                0                1                0   \n",
       "21198                0                0                1                0   \n",
       "21199                1                0                0                0   \n",
       "21200                0                0                1                0   \n",
       "\n",
       "       Pickup_weekday_1  Pickup_weekday_2  Pickup_weekday_3  Pickup_weekday_4  \\\n",
       "0                     0                 0                 0                 0   \n",
       "1                     0                 0                 0                 0   \n",
       "2                     0                 1                 0                 0   \n",
       "3                     0                 0                 0                 0   \n",
       "4                     1                 0                 0                 0   \n",
       "...                 ...               ...               ...               ...   \n",
       "21196                 0                 0                 1                 0   \n",
       "21197                 0                 0                 0                 0   \n",
       "21198                 0                 0                 0                 1   \n",
       "21199                 0                 0                 1                 0   \n",
       "21200                 0                 1                 0                 0   \n",
       "\n",
       "       Pickup_weekday_5  Pickup_weekday_6  Pickup_weekday_7  \n",
       "0                     1                 0                 0  \n",
       "1                     1                 0                 0  \n",
       "2                     0                 0                 0  \n",
       "3                     1                 0                 0  \n",
       "4                     0                 0                 0  \n",
       "...                 ...               ...               ...  \n",
       "21196                 0                 0                 0  \n",
       "21197                 0                 1                 0  \n",
       "21198                 0                 0                 0  \n",
       "21199                 0                 0                 0  \n",
       "21200                 0                 0                 0  \n",
       "\n",
       "[21201 rows x 11 columns]"
      ]
     },
     "execution_count": 14,
     "metadata": {},
     "output_type": "execute_result"
    }
   ],
   "source": [
    "dummies = pd.get_dummies(df[[\"Platform_type\", \"Pickup_weekday\"]])\n",
    "dummies"
   ]
  },
  {
   "cell_type": "code",
   "execution_count": 15,
   "metadata": {},
   "outputs": [],
   "source": [
    "df = pd.concat([df, dummies], axis=1)\n",
    "df.drop(columns=[\"Platform_type\", \"Pickup_weekday\"], inplace=True)"
   ]
  },
  {
   "cell_type": "code",
   "execution_count": 16,
   "metadata": {},
   "outputs": [
    {
     "data": {
      "text/plain": [
       "Rider_id             object\n",
       "No_Of_Orders          int64\n",
       "Age                   int64\n",
       "Average_Rating      float64\n",
       "No_of_Ratings         int64\n",
       "is_business            bool\n",
       "Pickup_time           int64\n",
       "Distance              int64\n",
       "Temperature         float64\n",
       "Travel_time           int64\n",
       "Platform_type_1       uint8\n",
       "Platform_type_2       uint8\n",
       "Platform_type_3       uint8\n",
       "Platform_type_4       uint8\n",
       "Pickup_weekday_1      uint8\n",
       "Pickup_weekday_2      uint8\n",
       "Pickup_weekday_3      uint8\n",
       "Pickup_weekday_4      uint8\n",
       "Pickup_weekday_5      uint8\n",
       "Pickup_weekday_6      uint8\n",
       "Pickup_weekday_7      uint8\n",
       "dtype: object"
      ]
     },
     "execution_count": 16,
     "metadata": {},
     "output_type": "execute_result"
    }
   ],
   "source": [
    "df.dtypes"
   ]
  },
  {
   "cell_type": "code",
   "execution_count": 17,
   "metadata": {},
   "outputs": [
    {
     "data": {
      "text/html": [
       "<div>\n",
       "<style scoped>\n",
       "    .dataframe tbody tr th:only-of-type {\n",
       "        vertical-align: middle;\n",
       "    }\n",
       "\n",
       "    .dataframe tbody tr th {\n",
       "        vertical-align: top;\n",
       "    }\n",
       "\n",
       "    .dataframe thead th {\n",
       "        text-align: right;\n",
       "    }\n",
       "</style>\n",
       "<table border=\"1\" class=\"dataframe\">\n",
       "  <thead>\n",
       "    <tr style=\"text-align: right;\">\n",
       "      <th></th>\n",
       "      <th>Rider_id</th>\n",
       "      <th>No_Of_Orders</th>\n",
       "      <th>Age</th>\n",
       "      <th>Average_Rating</th>\n",
       "      <th>No_of_Ratings</th>\n",
       "      <th>is_business</th>\n",
       "      <th>Pickup_time</th>\n",
       "      <th>Distance</th>\n",
       "      <th>Temperature</th>\n",
       "      <th>Travel_time</th>\n",
       "      <th>...</th>\n",
       "      <th>Platform_type_2</th>\n",
       "      <th>Platform_type_3</th>\n",
       "      <th>Platform_type_4</th>\n",
       "      <th>Pickup_weekday_1</th>\n",
       "      <th>Pickup_weekday_2</th>\n",
       "      <th>Pickup_weekday_3</th>\n",
       "      <th>Pickup_weekday_4</th>\n",
       "      <th>Pickup_weekday_5</th>\n",
       "      <th>Pickup_weekday_6</th>\n",
       "      <th>Pickup_weekday_7</th>\n",
       "    </tr>\n",
       "  </thead>\n",
       "  <tbody>\n",
       "    <tr>\n",
       "      <th>0</th>\n",
       "      <td>Rider_Id_432</td>\n",
       "      <td>1637</td>\n",
       "      <td>1309</td>\n",
       "      <td>13.8</td>\n",
       "      <td>549</td>\n",
       "      <td>True</td>\n",
       "      <td>37650</td>\n",
       "      <td>4</td>\n",
       "      <td>20.400000</td>\n",
       "      <td>745</td>\n",
       "      <td>...</td>\n",
       "      <td>0</td>\n",
       "      <td>1</td>\n",
       "      <td>0</td>\n",
       "      <td>0</td>\n",
       "      <td>0</td>\n",
       "      <td>0</td>\n",
       "      <td>0</td>\n",
       "      <td>1</td>\n",
       "      <td>0</td>\n",
       "      <td>0</td>\n",
       "    </tr>\n",
       "    <tr>\n",
       "      <th>1</th>\n",
       "      <td>Rider_Id_856</td>\n",
       "      <td>396</td>\n",
       "      <td>339</td>\n",
       "      <td>13.6</td>\n",
       "      <td>69</td>\n",
       "      <td>False</td>\n",
       "      <td>42249</td>\n",
       "      <td>16</td>\n",
       "      <td>26.400000</td>\n",
       "      <td>1993</td>\n",
       "      <td>...</td>\n",
       "      <td>0</td>\n",
       "      <td>1</td>\n",
       "      <td>0</td>\n",
       "      <td>0</td>\n",
       "      <td>0</td>\n",
       "      <td>0</td>\n",
       "      <td>0</td>\n",
       "      <td>1</td>\n",
       "      <td>0</td>\n",
       "      <td>0</td>\n",
       "    </tr>\n",
       "    <tr>\n",
       "      <th>2</th>\n",
       "      <td>Rider_Id_155</td>\n",
       "      <td>1023</td>\n",
       "      <td>242</td>\n",
       "      <td>12.5</td>\n",
       "      <td>114</td>\n",
       "      <td>True</td>\n",
       "      <td>46383</td>\n",
       "      <td>3</td>\n",
       "      <td>23.258889</td>\n",
       "      <td>455</td>\n",
       "      <td>...</td>\n",
       "      <td>0</td>\n",
       "      <td>1</td>\n",
       "      <td>0</td>\n",
       "      <td>0</td>\n",
       "      <td>1</td>\n",
       "      <td>0</td>\n",
       "      <td>0</td>\n",
       "      <td>0</td>\n",
       "      <td>0</td>\n",
       "      <td>0</td>\n",
       "    </tr>\n",
       "    <tr>\n",
       "      <th>3</th>\n",
       "      <td>Rider_Id_855</td>\n",
       "      <td>886</td>\n",
       "      <td>283</td>\n",
       "      <td>14.5</td>\n",
       "      <td>113</td>\n",
       "      <td>True</td>\n",
       "      <td>34986</td>\n",
       "      <td>9</td>\n",
       "      <td>19.200000</td>\n",
       "      <td>1341</td>\n",
       "      <td>...</td>\n",
       "      <td>0</td>\n",
       "      <td>1</td>\n",
       "      <td>0</td>\n",
       "      <td>0</td>\n",
       "      <td>0</td>\n",
       "      <td>0</td>\n",
       "      <td>0</td>\n",
       "      <td>1</td>\n",
       "      <td>0</td>\n",
       "      <td>0</td>\n",
       "    </tr>\n",
       "    <tr>\n",
       "      <th>4</th>\n",
       "      <td>Rider_Id_770</td>\n",
       "      <td>2311</td>\n",
       "      <td>872</td>\n",
       "      <td>14.1</td>\n",
       "      <td>533</td>\n",
       "      <td>False</td>\n",
       "      <td>36323</td>\n",
       "      <td>9</td>\n",
       "      <td>15.400000</td>\n",
       "      <td>1214</td>\n",
       "      <td>...</td>\n",
       "      <td>0</td>\n",
       "      <td>0</td>\n",
       "      <td>0</td>\n",
       "      <td>1</td>\n",
       "      <td>0</td>\n",
       "      <td>0</td>\n",
       "      <td>0</td>\n",
       "      <td>0</td>\n",
       "      <td>0</td>\n",
       "      <td>0</td>\n",
       "    </tr>\n",
       "    <tr>\n",
       "      <th>...</th>\n",
       "      <td>...</td>\n",
       "      <td>...</td>\n",
       "      <td>...</td>\n",
       "      <td>...</td>\n",
       "      <td>...</td>\n",
       "      <td>...</td>\n",
       "      <td>...</td>\n",
       "      <td>...</td>\n",
       "      <td>...</td>\n",
       "      <td>...</td>\n",
       "      <td>...</td>\n",
       "      <td>...</td>\n",
       "      <td>...</td>\n",
       "      <td>...</td>\n",
       "      <td>...</td>\n",
       "      <td>...</td>\n",
       "      <td>...</td>\n",
       "      <td>...</td>\n",
       "      <td>...</td>\n",
       "      <td>...</td>\n",
       "      <td>...</td>\n",
       "    </tr>\n",
       "    <tr>\n",
       "      <th>21196</th>\n",
       "      <td>Rider_Id_953</td>\n",
       "      <td>1270</td>\n",
       "      <td>367</td>\n",
       "      <td>14.4</td>\n",
       "      <td>131</td>\n",
       "      <td>False</td>\n",
       "      <td>58808</td>\n",
       "      <td>3</td>\n",
       "      <td>28.600000</td>\n",
       "      <td>9</td>\n",
       "      <td>...</td>\n",
       "      <td>0</td>\n",
       "      <td>1</td>\n",
       "      <td>0</td>\n",
       "      <td>0</td>\n",
       "      <td>0</td>\n",
       "      <td>1</td>\n",
       "      <td>0</td>\n",
       "      <td>0</td>\n",
       "      <td>0</td>\n",
       "      <td>0</td>\n",
       "    </tr>\n",
       "    <tr>\n",
       "      <th>21197</th>\n",
       "      <td>Rider_Id_155</td>\n",
       "      <td>1023</td>\n",
       "      <td>242</td>\n",
       "      <td>12.5</td>\n",
       "      <td>114</td>\n",
       "      <td>True</td>\n",
       "      <td>38007</td>\n",
       "      <td>7</td>\n",
       "      <td>26.000000</td>\n",
       "      <td>770</td>\n",
       "      <td>...</td>\n",
       "      <td>0</td>\n",
       "      <td>1</td>\n",
       "      <td>0</td>\n",
       "      <td>0</td>\n",
       "      <td>0</td>\n",
       "      <td>0</td>\n",
       "      <td>0</td>\n",
       "      <td>0</td>\n",
       "      <td>1</td>\n",
       "      <td>0</td>\n",
       "    </tr>\n",
       "    <tr>\n",
       "      <th>21198</th>\n",
       "      <td>Rider_Id_697</td>\n",
       "      <td>314</td>\n",
       "      <td>473</td>\n",
       "      <td>13.8</td>\n",
       "      <td>29</td>\n",
       "      <td>True</td>\n",
       "      <td>64252</td>\n",
       "      <td>20</td>\n",
       "      <td>29.200000</td>\n",
       "      <td>2953</td>\n",
       "      <td>...</td>\n",
       "      <td>0</td>\n",
       "      <td>1</td>\n",
       "      <td>0</td>\n",
       "      <td>0</td>\n",
       "      <td>0</td>\n",
       "      <td>0</td>\n",
       "      <td>1</td>\n",
       "      <td>0</td>\n",
       "      <td>0</td>\n",
       "      <td>0</td>\n",
       "    </tr>\n",
       "    <tr>\n",
       "      <th>21199</th>\n",
       "      <td>Rider_Id_347</td>\n",
       "      <td>2451</td>\n",
       "      <td>1821</td>\n",
       "      <td>14.0</td>\n",
       "      <td>1101</td>\n",
       "      <td>False</td>\n",
       "      <td>35115</td>\n",
       "      <td>13</td>\n",
       "      <td>15.000000</td>\n",
       "      <td>1380</td>\n",
       "      <td>...</td>\n",
       "      <td>0</td>\n",
       "      <td>0</td>\n",
       "      <td>0</td>\n",
       "      <td>0</td>\n",
       "      <td>0</td>\n",
       "      <td>1</td>\n",
       "      <td>0</td>\n",
       "      <td>0</td>\n",
       "      <td>0</td>\n",
       "      <td>0</td>\n",
       "    </tr>\n",
       "    <tr>\n",
       "      <th>21200</th>\n",
       "      <td>Rider_Id_177</td>\n",
       "      <td>526</td>\n",
       "      <td>286</td>\n",
       "      <td>13.6</td>\n",
       "      <td>70</td>\n",
       "      <td>True</td>\n",
       "      <td>52915</td>\n",
       "      <td>12</td>\n",
       "      <td>30.900000</td>\n",
       "      <td>2128</td>\n",
       "      <td>...</td>\n",
       "      <td>0</td>\n",
       "      <td>1</td>\n",
       "      <td>0</td>\n",
       "      <td>0</td>\n",
       "      <td>1</td>\n",
       "      <td>0</td>\n",
       "      <td>0</td>\n",
       "      <td>0</td>\n",
       "      <td>0</td>\n",
       "      <td>0</td>\n",
       "    </tr>\n",
       "  </tbody>\n",
       "</table>\n",
       "<p>21201 rows × 21 columns</p>\n",
       "</div>"
      ],
      "text/plain": [
       "           Rider_id  No_Of_Orders   Age  Average_Rating  No_of_Ratings  \\\n",
       "0      Rider_Id_432          1637  1309            13.8            549   \n",
       "1      Rider_Id_856           396   339            13.6             69   \n",
       "2      Rider_Id_155          1023   242            12.5            114   \n",
       "3      Rider_Id_855           886   283            14.5            113   \n",
       "4      Rider_Id_770          2311   872            14.1            533   \n",
       "...             ...           ...   ...             ...            ...   \n",
       "21196  Rider_Id_953          1270   367            14.4            131   \n",
       "21197  Rider_Id_155          1023   242            12.5            114   \n",
       "21198  Rider_Id_697           314   473            13.8             29   \n",
       "21199  Rider_Id_347          2451  1821            14.0           1101   \n",
       "21200  Rider_Id_177           526   286            13.6             70   \n",
       "\n",
       "       is_business  Pickup_time  Distance  Temperature  Travel_time  ...  \\\n",
       "0             True        37650         4    20.400000          745  ...   \n",
       "1            False        42249        16    26.400000         1993  ...   \n",
       "2             True        46383         3    23.258889          455  ...   \n",
       "3             True        34986         9    19.200000         1341  ...   \n",
       "4            False        36323         9    15.400000         1214  ...   \n",
       "...            ...          ...       ...          ...          ...  ...   \n",
       "21196        False        58808         3    28.600000            9  ...   \n",
       "21197         True        38007         7    26.000000          770  ...   \n",
       "21198         True        64252        20    29.200000         2953  ...   \n",
       "21199        False        35115        13    15.000000         1380  ...   \n",
       "21200         True        52915        12    30.900000         2128  ...   \n",
       "\n",
       "       Platform_type_2  Platform_type_3  Platform_type_4  Pickup_weekday_1  \\\n",
       "0                    0                1                0                 0   \n",
       "1                    0                1                0                 0   \n",
       "2                    0                1                0                 0   \n",
       "3                    0                1                0                 0   \n",
       "4                    0                0                0                 1   \n",
       "...                ...              ...              ...               ...   \n",
       "21196                0                1                0                 0   \n",
       "21197                0                1                0                 0   \n",
       "21198                0                1                0                 0   \n",
       "21199                0                0                0                 0   \n",
       "21200                0                1                0                 0   \n",
       "\n",
       "       Pickup_weekday_2  Pickup_weekday_3  Pickup_weekday_4  Pickup_weekday_5  \\\n",
       "0                     0                 0                 0                 1   \n",
       "1                     0                 0                 0                 1   \n",
       "2                     1                 0                 0                 0   \n",
       "3                     0                 0                 0                 1   \n",
       "4                     0                 0                 0                 0   \n",
       "...                 ...               ...               ...               ...   \n",
       "21196                 0                 1                 0                 0   \n",
       "21197                 0                 0                 0                 0   \n",
       "21198                 0                 0                 1                 0   \n",
       "21199                 0                 1                 0                 0   \n",
       "21200                 1                 0                 0                 0   \n",
       "\n",
       "       Pickup_weekday_6  Pickup_weekday_7  \n",
       "0                     0                 0  \n",
       "1                     0                 0  \n",
       "2                     0                 0  \n",
       "3                     0                 0  \n",
       "4                     0                 0  \n",
       "...                 ...               ...  \n",
       "21196                 0                 0  \n",
       "21197                 1                 0  \n",
       "21198                 0                 0  \n",
       "21199                 0                 0  \n",
       "21200                 0                 0  \n",
       "\n",
       "[21201 rows x 21 columns]"
      ]
     },
     "execution_count": 17,
     "metadata": {},
     "output_type": "execute_result"
    }
   ],
   "source": [
    "km_data = df.copy()\n",
    "km_data"
   ]
  },
  {
   "cell_type": "code",
   "execution_count": 18,
   "metadata": {},
   "outputs": [],
   "source": [
    "df.drop(columns=[\"Rider_id\"], inplace=True)"
   ]
  },
  {
   "cell_type": "code",
   "execution_count": 19,
   "metadata": {},
   "outputs": [
    {
     "data": {
      "text/plain": [
       "Index(['No_Of_Orders', 'Age', 'Average_Rating', 'No_of_Ratings', 'is_business',\n",
       "       'Pickup_time', 'Distance', 'Temperature', 'Platform_type_1',\n",
       "       'Platform_type_2', 'Platform_type_3', 'Platform_type_4',\n",
       "       'Pickup_weekday_1', 'Pickup_weekday_2', 'Pickup_weekday_3',\n",
       "       'Pickup_weekday_4', 'Pickup_weekday_5', 'Pickup_weekday_6',\n",
       "       'Pickup_weekday_7'],\n",
       "      dtype='object')"
      ]
     },
     "execution_count": 19,
     "metadata": {},
     "output_type": "execute_result"
    }
   ],
   "source": [
    "features = df.columns\n",
    "features = features.delete(features.get_loc(\"Travel_time\"))\n",
    "features"
   ]
  },
  {
   "cell_type": "markdown",
   "metadata": {},
   "source": [
    "# Looking at coefficient"
   ]
  },
  {
   "cell_type": "code",
   "execution_count": 28,
   "metadata": {},
   "outputs": [
    {
     "data": {
      "text/plain": [
       "0         745\n",
       "1        1993\n",
       "2         455\n",
       "3        1341\n",
       "4        1214\n",
       "         ... \n",
       "21196       9\n",
       "21197     770\n",
       "21198    2953\n",
       "21199    1380\n",
       "21200    2128\n",
       "Name: Travel_time, Length: 21201, dtype: int64"
      ]
     },
     "execution_count": 28,
     "metadata": {},
     "output_type": "execute_result"
    }
   ],
   "source": [
    "X = df[features]\n",
    "y = df[\"Travel_time\"]\n",
    "y"
   ]
  },
  {
   "cell_type": "code",
   "execution_count": 29,
   "metadata": {},
   "outputs": [
    {
     "data": {
      "text/html": [
       "<style>#sk-container-id-2 {color: black;background-color: white;}#sk-container-id-2 pre{padding: 0;}#sk-container-id-2 div.sk-toggleable {background-color: white;}#sk-container-id-2 label.sk-toggleable__label {cursor: pointer;display: block;width: 100%;margin-bottom: 0;padding: 0.3em;box-sizing: border-box;text-align: center;}#sk-container-id-2 label.sk-toggleable__label-arrow:before {content: \"▸\";float: left;margin-right: 0.25em;color: #696969;}#sk-container-id-2 label.sk-toggleable__label-arrow:hover:before {color: black;}#sk-container-id-2 div.sk-estimator:hover label.sk-toggleable__label-arrow:before {color: black;}#sk-container-id-2 div.sk-toggleable__content {max-height: 0;max-width: 0;overflow: hidden;text-align: left;background-color: #f0f8ff;}#sk-container-id-2 div.sk-toggleable__content pre {margin: 0.2em;color: black;border-radius: 0.25em;background-color: #f0f8ff;}#sk-container-id-2 input.sk-toggleable__control:checked~div.sk-toggleable__content {max-height: 200px;max-width: 100%;overflow: auto;}#sk-container-id-2 input.sk-toggleable__control:checked~label.sk-toggleable__label-arrow:before {content: \"▾\";}#sk-container-id-2 div.sk-estimator input.sk-toggleable__control:checked~label.sk-toggleable__label {background-color: #d4ebff;}#sk-container-id-2 div.sk-label input.sk-toggleable__control:checked~label.sk-toggleable__label {background-color: #d4ebff;}#sk-container-id-2 input.sk-hidden--visually {border: 0;clip: rect(1px 1px 1px 1px);clip: rect(1px, 1px, 1px, 1px);height: 1px;margin: -1px;overflow: hidden;padding: 0;position: absolute;width: 1px;}#sk-container-id-2 div.sk-estimator {font-family: monospace;background-color: #f0f8ff;border: 1px dotted black;border-radius: 0.25em;box-sizing: border-box;margin-bottom: 0.5em;}#sk-container-id-2 div.sk-estimator:hover {background-color: #d4ebff;}#sk-container-id-2 div.sk-parallel-item::after {content: \"\";width: 100%;border-bottom: 1px solid gray;flex-grow: 1;}#sk-container-id-2 div.sk-label:hover label.sk-toggleable__label {background-color: #d4ebff;}#sk-container-id-2 div.sk-serial::before {content: \"\";position: absolute;border-left: 1px solid gray;box-sizing: border-box;top: 0;bottom: 0;left: 50%;z-index: 0;}#sk-container-id-2 div.sk-serial {display: flex;flex-direction: column;align-items: center;background-color: white;padding-right: 0.2em;padding-left: 0.2em;position: relative;}#sk-container-id-2 div.sk-item {position: relative;z-index: 1;}#sk-container-id-2 div.sk-parallel {display: flex;align-items: stretch;justify-content: center;background-color: white;position: relative;}#sk-container-id-2 div.sk-item::before, #sk-container-id-2 div.sk-parallel-item::before {content: \"\";position: absolute;border-left: 1px solid gray;box-sizing: border-box;top: 0;bottom: 0;left: 50%;z-index: -1;}#sk-container-id-2 div.sk-parallel-item {display: flex;flex-direction: column;z-index: 1;position: relative;background-color: white;}#sk-container-id-2 div.sk-parallel-item:first-child::after {align-self: flex-end;width: 50%;}#sk-container-id-2 div.sk-parallel-item:last-child::after {align-self: flex-start;width: 50%;}#sk-container-id-2 div.sk-parallel-item:only-child::after {width: 0;}#sk-container-id-2 div.sk-dashed-wrapped {border: 1px dashed gray;margin: 0 0.4em 0.5em 0.4em;box-sizing: border-box;padding-bottom: 0.4em;background-color: white;}#sk-container-id-2 div.sk-label label {font-family: monospace;font-weight: bold;display: inline-block;line-height: 1.2em;}#sk-container-id-2 div.sk-label-container {text-align: center;}#sk-container-id-2 div.sk-container {/* jupyter's `normalize.less` sets `[hidden] { display: none; }` but bootstrap.min.css set `[hidden] { display: none !important; }` so we also need the `!important` here to be able to override the default hidden behavior on the sphinx rendered scikit-learn.org. See: https://github.com/scikit-learn/scikit-learn/issues/21755 */display: inline-block !important;position: relative;}#sk-container-id-2 div.sk-text-repr-fallback {display: none;}</style><div id=\"sk-container-id-2\" class=\"sk-top-container\"><div class=\"sk-text-repr-fallback\"><pre>LinearRegression()</pre><b>In a Jupyter environment, please rerun this cell to show the HTML representation or trust the notebook. <br />On GitHub, the HTML representation is unable to render, please try loading this page with nbviewer.org.</b></div><div class=\"sk-container\" hidden><div class=\"sk-item\"><div class=\"sk-estimator sk-toggleable\"><input class=\"sk-toggleable__control sk-hidden--visually\" id=\"sk-estimator-id-2\" type=\"checkbox\" checked><label for=\"sk-estimator-id-2\" class=\"sk-toggleable__label sk-toggleable__label-arrow\">LinearRegression</label><div class=\"sk-toggleable__content\"><pre>LinearRegression()</pre></div></div></div></div></div>"
      ],
      "text/plain": [
       "LinearRegression()"
      ]
     },
     "execution_count": 29,
     "metadata": {},
     "output_type": "execute_result"
    }
   ],
   "source": [
    "#\n",
    "model = LinearRegression()\n",
    "\n",
    "X_train, X_test, y_train, y_test = train_test_split(X, y, test_size=0.2, random_state=13)\n",
    "#Standardizing\n",
    "scaler = StandardScaler()\n",
    "X_train = scaler.fit_transform(X_train)\n",
    "X_train = pd.DataFrame(X_train, columns=features)\n",
    "X_test = scaler.transform(X_test)\n",
    "X_test = pd.DataFrame(X_test, columns=features)\n",
    "\n",
    "model.fit(X_train, y_train)"
   ]
  },
  {
   "cell_type": "code",
   "execution_count": 30,
   "metadata": {},
   "outputs": [],
   "source": [
    "y_pred = model.predict(X_test)"
   ]
  },
  {
   "cell_type": "code",
   "execution_count": 31,
   "metadata": {},
   "outputs": [
    {
     "data": {
      "text/plain": [
       "649760.5575386215"
      ]
     },
     "execution_count": 31,
     "metadata": {},
     "output_type": "execute_result"
    }
   ],
   "source": [
    "MSE = mean_squared_error(y_true=y_test, y_pred=y_pred)\n",
    "MSE"
   ]
  },
  {
   "cell_type": "code",
   "execution_count": 32,
   "metadata": {},
   "outputs": [
    {
     "data": {
      "text/plain": [
       "0.3551350735527419"
      ]
     },
     "execution_count": 32,
     "metadata": {},
     "output_type": "execute_result"
    }
   ],
   "source": [
    "r2 = r2_score(y_true=y_test, y_pred=y_pred)\n",
    "r2"
   ]
  },
  {
   "cell_type": "code",
   "execution_count": 33,
   "metadata": {},
   "outputs": [
    {
     "data": {
      "text/plain": [
       "<AxesSubplot: >"
      ]
     },
     "execution_count": 33,
     "metadata": {},
     "output_type": "execute_result"
    },
    {
     "data": {
      "image/png": "[encoded data removed]",
      "text/plain": [
       "<Figure size 640x480 with 1 Axes>"
      ]
     },
     "metadata": {},
     "output_type": "display_data"
    }
   ],
   "source": [
    "coefficients = np.squeeze(model.coef_)\n",
    "sns.barplot(x=features, y=coefficients)"
   ]
  },
  {
   "cell_type": "code",
   "execution_count": 48,
   "metadata": {},
   "outputs": [],
   "source": [
    "feature_ranking = pd.DataFrame(data=coefficients, index=X.columns)"
   ]
  },
  {
   "cell_type": "code",
   "execution_count": 51,
   "metadata": {},
   "outputs": [],
   "source": [
    "feature_ranking[0] = abs(feature_ranking[0])"
   ]
  },
  {
   "cell_type": "code",
   "execution_count": 54,
   "metadata": {},
   "outputs": [],
   "source": [
    "feature_ranking = feature_ranking.sort_values([0], ascending=False)"
   ]
  },
  {
   "cell_type": "code",
   "execution_count": 55,
   "metadata": {},
   "outputs": [
    {
     "data": {
      "text/html": [
       "<div>\n",
       "<style scoped>\n",
       "    .dataframe tbody tr th:only-of-type {\n",
       "        vertical-align: middle;\n",
       "    }\n",
       "\n",
       "    .dataframe tbody tr th {\n",
       "        vertical-align: top;\n",
       "    }\n",
       "\n",
       "    .dataframe thead th {\n",
       "        text-align: right;\n",
       "    }\n",
       "</style>\n",
       "<table border=\"1\" class=\"dataframe\">\n",
       "  <thead>\n",
       "    <tr style=\"text-align: right;\">\n",
       "      <th></th>\n",
       "      <th>0</th>\n",
       "    </tr>\n",
       "  </thead>\n",
       "  <tbody>\n",
       "    <tr>\n",
       "      <th>Distance</th>\n",
       "      <td>572.255707</td>\n",
       "    </tr>\n",
       "    <tr>\n",
       "      <th>No_Of_Orders</th>\n",
       "      <td>152.412057</td>\n",
       "    </tr>\n",
       "    <tr>\n",
       "      <th>No_of_Ratings</th>\n",
       "      <td>107.817655</td>\n",
       "    </tr>\n",
       "    <tr>\n",
       "      <th>Average_Rating</th>\n",
       "      <td>37.097240</td>\n",
       "    </tr>\n",
       "    <tr>\n",
       "      <th>Pickup_weekday_6</th>\n",
       "      <td>33.962828</td>\n",
       "    </tr>\n",
       "    <tr>\n",
       "      <th>Pickup_time</th>\n",
       "      <td>28.813075</td>\n",
       "    </tr>\n",
       "    <tr>\n",
       "      <th>Pickup_weekday_1</th>\n",
       "      <td>24.631451</td>\n",
       "    </tr>\n",
       "    <tr>\n",
       "      <th>Pickup_weekday_5</th>\n",
       "      <td>17.811632</td>\n",
       "    </tr>\n",
       "    <tr>\n",
       "      <th>is_business</th>\n",
       "      <td>15.899155</td>\n",
       "    </tr>\n",
       "    <tr>\n",
       "      <th>Pickup_weekday_2</th>\n",
       "      <td>14.342404</td>\n",
       "    </tr>\n",
       "    <tr>\n",
       "      <th>Pickup_weekday_7</th>\n",
       "      <td>14.017488</td>\n",
       "    </tr>\n",
       "    <tr>\n",
       "      <th>Temperature</th>\n",
       "      <td>10.742164</td>\n",
       "    </tr>\n",
       "    <tr>\n",
       "      <th>Pickup_weekday_4</th>\n",
       "      <td>9.877132</td>\n",
       "    </tr>\n",
       "    <tr>\n",
       "      <th>Platform_type_4</th>\n",
       "      <td>9.855205</td>\n",
       "    </tr>\n",
       "    <tr>\n",
       "      <th>Age</th>\n",
       "      <td>6.892488</td>\n",
       "    </tr>\n",
       "    <tr>\n",
       "      <th>Pickup_weekday_3</th>\n",
       "      <td>5.746443</td>\n",
       "    </tr>\n",
       "    <tr>\n",
       "      <th>Platform_type_3</th>\n",
       "      <td>5.047218</td>\n",
       "    </tr>\n",
       "    <tr>\n",
       "      <th>Platform_type_1</th>\n",
       "      <td>4.416728</td>\n",
       "    </tr>\n",
       "    <tr>\n",
       "      <th>Platform_type_2</th>\n",
       "      <td>0.707308</td>\n",
       "    </tr>\n",
       "  </tbody>\n",
       "</table>\n",
       "</div>"
      ],
      "text/plain": [
       "                           0\n",
       "Distance          572.255707\n",
       "No_Of_Orders      152.412057\n",
       "No_of_Ratings     107.817655\n",
       "Average_Rating     37.097240\n",
       "Pickup_weekday_6   33.962828\n",
       "Pickup_time        28.813075\n",
       "Pickup_weekday_1   24.631451\n",
       "Pickup_weekday_5   17.811632\n",
       "is_business        15.899155\n",
       "Pickup_weekday_2   14.342404\n",
       "Pickup_weekday_7   14.017488\n",
       "Temperature        10.742164\n",
       "Pickup_weekday_4    9.877132\n",
       "Platform_type_4     9.855205\n",
       "Age                 6.892488\n",
       "Pickup_weekday_3    5.746443\n",
       "Platform_type_3     5.047218\n",
       "Platform_type_1     4.416728\n",
       "Platform_type_2     0.707308"
      ]
     },
     "execution_count": 55,
     "metadata": {},
     "output_type": "execute_result"
    }
   ],
   "source": [
    "feature_ranking"
   ]
  },
  {
   "cell_type": "code",
   "execution_count": 64,
   "metadata": {},
   "outputs": [
    {
     "data": {
      "text/plain": [
       "Index(['Distance', 'No_Of_Orders', 'No_of_Ratings', 'Average_Rating',\n",
       "       'Pickup_weekday_6', 'Pickup_time', 'Pickup_weekday_1',\n",
       "       'Pickup_weekday_5', 'is_business', 'Pickup_weekday_2'],\n",
       "      dtype='object')"
      ]
     },
     "execution_count": 64,
     "metadata": {},
     "output_type": "execute_result"
    }
   ],
   "source": [
    "top10 = feature_ranking.index[0:10]\n",
    "top10"
   ]
  },
  {
   "cell_type": "code",
   "execution_count": 34,
   "metadata": {},
   "outputs": [
    {
     "data": {
      "text/html": [
       "<div>\n",
       "<style scoped>\n",
       "    .dataframe tbody tr th:only-of-type {\n",
       "        vertical-align: middle;\n",
       "    }\n",
       "\n",
       "    .dataframe tbody tr th {\n",
       "        vertical-align: top;\n",
       "    }\n",
       "\n",
       "    .dataframe thead th {\n",
       "        text-align: right;\n",
       "    }\n",
       "</style>\n",
       "<table border=\"1\" class=\"dataframe\">\n",
       "  <thead>\n",
       "    <tr style=\"text-align: right;\">\n",
       "      <th></th>\n",
       "      <th>No_Of_Orders</th>\n",
       "      <th>Age</th>\n",
       "      <th>Average_Rating</th>\n",
       "      <th>No_of_Ratings</th>\n",
       "      <th>is_business</th>\n",
       "      <th>Pickup_time</th>\n",
       "      <th>Distance</th>\n",
       "      <th>Temperature</th>\n",
       "      <th>Platform_type_1</th>\n",
       "      <th>Platform_type_2</th>\n",
       "      <th>Platform_type_3</th>\n",
       "      <th>Platform_type_4</th>\n",
       "      <th>Pickup_weekday_1</th>\n",
       "      <th>Pickup_weekday_2</th>\n",
       "      <th>Pickup_weekday_3</th>\n",
       "      <th>Pickup_weekday_4</th>\n",
       "      <th>Pickup_weekday_5</th>\n",
       "      <th>Pickup_weekday_6</th>\n",
       "      <th>Pickup_weekday_7</th>\n",
       "    </tr>\n",
       "  </thead>\n",
       "  <tbody>\n",
       "    <tr>\n",
       "      <th>0</th>\n",
       "      <td>1637</td>\n",
       "      <td>1309</td>\n",
       "      <td>13.8</td>\n",
       "      <td>549</td>\n",
       "      <td>True</td>\n",
       "      <td>37650</td>\n",
       "      <td>4</td>\n",
       "      <td>20.400000</td>\n",
       "      <td>0</td>\n",
       "      <td>0</td>\n",
       "      <td>1</td>\n",
       "      <td>0</td>\n",
       "      <td>0</td>\n",
       "      <td>0</td>\n",
       "      <td>0</td>\n",
       "      <td>0</td>\n",
       "      <td>1</td>\n",
       "      <td>0</td>\n",
       "      <td>0</td>\n",
       "    </tr>\n",
       "    <tr>\n",
       "      <th>1</th>\n",
       "      <td>396</td>\n",
       "      <td>339</td>\n",
       "      <td>13.6</td>\n",
       "      <td>69</td>\n",
       "      <td>False</td>\n",
       "      <td>42249</td>\n",
       "      <td>16</td>\n",
       "      <td>26.400000</td>\n",
       "      <td>0</td>\n",
       "      <td>0</td>\n",
       "      <td>1</td>\n",
       "      <td>0</td>\n",
       "      <td>0</td>\n",
       "      <td>0</td>\n",
       "      <td>0</td>\n",
       "      <td>0</td>\n",
       "      <td>1</td>\n",
       "      <td>0</td>\n",
       "      <td>0</td>\n",
       "    </tr>\n",
       "    <tr>\n",
       "      <th>2</th>\n",
       "      <td>1023</td>\n",
       "      <td>242</td>\n",
       "      <td>12.5</td>\n",
       "      <td>114</td>\n",
       "      <td>True</td>\n",
       "      <td>46383</td>\n",
       "      <td>3</td>\n",
       "      <td>23.258889</td>\n",
       "      <td>0</td>\n",
       "      <td>0</td>\n",
       "      <td>1</td>\n",
       "      <td>0</td>\n",
       "      <td>0</td>\n",
       "      <td>1</td>\n",
       "      <td>0</td>\n",
       "      <td>0</td>\n",
       "      <td>0</td>\n",
       "      <td>0</td>\n",
       "      <td>0</td>\n",
       "    </tr>\n",
       "    <tr>\n",
       "      <th>3</th>\n",
       "      <td>886</td>\n",
       "      <td>283</td>\n",
       "      <td>14.5</td>\n",
       "      <td>113</td>\n",
       "      <td>True</td>\n",
       "      <td>34986</td>\n",
       "      <td>9</td>\n",
       "      <td>19.200000</td>\n",
       "      <td>0</td>\n",
       "      <td>0</td>\n",
       "      <td>1</td>\n",
       "      <td>0</td>\n",
       "      <td>0</td>\n",
       "      <td>0</td>\n",
       "      <td>0</td>\n",
       "      <td>0</td>\n",
       "      <td>1</td>\n",
       "      <td>0</td>\n",
       "      <td>0</td>\n",
       "    </tr>\n",
       "    <tr>\n",
       "      <th>4</th>\n",
       "      <td>2311</td>\n",
       "      <td>872</td>\n",
       "      <td>14.1</td>\n",
       "      <td>533</td>\n",
       "      <td>False</td>\n",
       "      <td>36323</td>\n",
       "      <td>9</td>\n",
       "      <td>15.400000</td>\n",
       "      <td>1</td>\n",
       "      <td>0</td>\n",
       "      <td>0</td>\n",
       "      <td>0</td>\n",
       "      <td>1</td>\n",
       "      <td>0</td>\n",
       "      <td>0</td>\n",
       "      <td>0</td>\n",
       "      <td>0</td>\n",
       "      <td>0</td>\n",
       "      <td>0</td>\n",
       "    </tr>\n",
       "  </tbody>\n",
       "</table>\n",
       "</div>"
      ],
      "text/plain": [
       "   No_Of_Orders   Age  Average_Rating  No_of_Ratings  is_business  \\\n",
       "0          1637  1309            13.8            549         True   \n",
       "1           396   339            13.6             69        False   \n",
       "2          1023   242            12.5            114         True   \n",
       "3           886   283            14.5            113         True   \n",
       "4          2311   872            14.1            533        False   \n",
       "\n",
       "   Pickup_time  Distance  Temperature  Platform_type_1  Platform_type_2  \\\n",
       "0        37650         4    20.400000                0                0   \n",
       "1        42249        16    26.400000                0                0   \n",
       "2        46383         3    23.258889                0                0   \n",
       "3        34986         9    19.200000                0                0   \n",
       "4        36323         9    15.400000                1                0   \n",
       "\n",
       "   Platform_type_3  Platform_type_4  Pickup_weekday_1  Pickup_weekday_2  \\\n",
       "0                1                0                 0                 0   \n",
       "1                1                0                 0                 0   \n",
       "2                1                0                 0                 1   \n",
       "3                1                0                 0                 0   \n",
       "4                0                0                 1                 0   \n",
       "\n",
       "   Pickup_weekday_3  Pickup_weekday_4  Pickup_weekday_5  Pickup_weekday_6  \\\n",
       "0                 0                 0                 1                 0   \n",
       "1                 0                 0                 1                 0   \n",
       "2                 0                 0                 0                 0   \n",
       "3                 0                 0                 1                 0   \n",
       "4                 0                 0                 0                 0   \n",
       "\n",
       "   Pickup_weekday_7  \n",
       "0                 0  \n",
       "1                 0  \n",
       "2                 0  \n",
       "3                 0  \n",
       "4                 0  "
      ]
     },
     "execution_count": 34,
     "metadata": {},
     "output_type": "execute_result"
    }
   ],
   "source": [
    "X.head()"
   ]
  },
  {
   "cell_type": "markdown",
   "metadata": {},
   "source": [
    "# Linear model using 3 most weighted features"
   ]
  },
  {
   "cell_type": "code",
   "execution_count": 35,
   "metadata": {},
   "outputs": [],
   "source": [
    "#Using smaller set of data\n",
    "useful = [\"No_Of_Orders\", \"Distance\", \"No_of_Ratings\"]"
   ]
  },
  {
   "cell_type": "code",
   "execution_count": 36,
   "metadata": {},
   "outputs": [],
   "source": [
    "X = df[features]\n",
    "y= df[\"Travel_time\"]"
   ]
  },
  {
   "cell_type": "code",
   "execution_count": 37,
   "metadata": {},
   "outputs": [
    {
     "data": {
      "text/html": [
       "<style>#sk-container-id-3 {color: black;background-color: white;}#sk-container-id-3 pre{padding: 0;}#sk-container-id-3 div.sk-toggleable {background-color: white;}#sk-container-id-3 label.sk-toggleable__label {cursor: pointer;display: block;width: 100%;margin-bottom: 0;padding: 0.3em;box-sizing: border-box;text-align: center;}#sk-container-id-3 label.sk-toggleable__label-arrow:before {content: \"▸\";float: left;margin-right: 0.25em;color: #696969;}#sk-container-id-3 label.sk-toggleable__label-arrow:hover:before {color: black;}#sk-container-id-3 div.sk-estimator:hover label.sk-toggleable__label-arrow:before {color: black;}#sk-container-id-3 div.sk-toggleable__content {max-height: 0;max-width: 0;overflow: hidden;text-align: left;background-color: #f0f8ff;}#sk-container-id-3 div.sk-toggleable__content pre {margin: 0.2em;color: black;border-radius: 0.25em;background-color: #f0f8ff;}#sk-container-id-3 input.sk-toggleable__control:checked~div.sk-toggleable__content {max-height: 200px;max-width: 100%;overflow: auto;}#sk-container-id-3 input.sk-toggleable__control:checked~label.sk-toggleable__label-arrow:before {content: \"▾\";}#sk-container-id-3 div.sk-estimator input.sk-toggleable__control:checked~label.sk-toggleable__label {background-color: #d4ebff;}#sk-container-id-3 div.sk-label input.sk-toggleable__control:checked~label.sk-toggleable__label {background-color: #d4ebff;}#sk-container-id-3 input.sk-hidden--visually {border: 0;clip: rect(1px 1px 1px 1px);clip: rect(1px, 1px, 1px, 1px);height: 1px;margin: -1px;overflow: hidden;padding: 0;position: absolute;width: 1px;}#sk-container-id-3 div.sk-estimator {font-family: monospace;background-color: #f0f8ff;border: 1px dotted black;border-radius: 0.25em;box-sizing: border-box;margin-bottom: 0.5em;}#sk-container-id-3 div.sk-estimator:hover {background-color: #d4ebff;}#sk-container-id-3 div.sk-parallel-item::after {content: \"\";width: 100%;border-bottom: 1px solid gray;flex-grow: 1;}#sk-container-id-3 div.sk-label:hover label.sk-toggleable__label {background-color: #d4ebff;}#sk-container-id-3 div.sk-serial::before {content: \"\";position: absolute;border-left: 1px solid gray;box-sizing: border-box;top: 0;bottom: 0;left: 50%;z-index: 0;}#sk-container-id-3 div.sk-serial {display: flex;flex-direction: column;align-items: center;background-color: white;padding-right: 0.2em;padding-left: 0.2em;position: relative;}#sk-container-id-3 div.sk-item {position: relative;z-index: 1;}#sk-container-id-3 div.sk-parallel {display: flex;align-items: stretch;justify-content: center;background-color: white;position: relative;}#sk-container-id-3 div.sk-item::before, #sk-container-id-3 div.sk-parallel-item::before {content: \"\";position: absolute;border-left: 1px solid gray;box-sizing: border-box;top: 0;bottom: 0;left: 50%;z-index: -1;}#sk-container-id-3 div.sk-parallel-item {display: flex;flex-direction: column;z-index: 1;position: relative;background-color: white;}#sk-container-id-3 div.sk-parallel-item:first-child::after {align-self: flex-end;width: 50%;}#sk-container-id-3 div.sk-parallel-item:last-child::after {align-self: flex-start;width: 50%;}#sk-container-id-3 div.sk-parallel-item:only-child::after {width: 0;}#sk-container-id-3 div.sk-dashed-wrapped {border: 1px dashed gray;margin: 0 0.4em 0.5em 0.4em;box-sizing: border-box;padding-bottom: 0.4em;background-color: white;}#sk-container-id-3 div.sk-label label {font-family: monospace;font-weight: bold;display: inline-block;line-height: 1.2em;}#sk-container-id-3 div.sk-label-container {text-align: center;}#sk-container-id-3 div.sk-container {/* jupyter's `normalize.less` sets `[hidden] { display: none; }` but bootstrap.min.css set `[hidden] { display: none !important; }` so we also need the `!important` here to be able to override the default hidden behavior on the sphinx rendered scikit-learn.org. See: https://github.com/scikit-learn/scikit-learn/issues/21755 */display: inline-block !important;position: relative;}#sk-container-id-3 div.sk-text-repr-fallback {display: none;}</style><div id=\"sk-container-id-3\" class=\"sk-top-container\"><div class=\"sk-text-repr-fallback\"><pre>LinearRegression()</pre><b>In a Jupyter environment, please rerun this cell to show the HTML representation or trust the notebook. <br />On GitHub, the HTML representation is unable to render, please try loading this page with nbviewer.org.</b></div><div class=\"sk-container\" hidden><div class=\"sk-item\"><div class=\"sk-estimator sk-toggleable\"><input class=\"sk-toggleable__control sk-hidden--visually\" id=\"sk-estimator-id-3\" type=\"checkbox\" checked><label for=\"sk-estimator-id-3\" class=\"sk-toggleable__label sk-toggleable__label-arrow\">LinearRegression</label><div class=\"sk-toggleable__content\"><pre>LinearRegression()</pre></div></div></div></div></div>"
      ],
      "text/plain": [
       "LinearRegression()"
      ]
     },
     "execution_count": 37,
     "metadata": {},
     "output_type": "execute_result"
    }
   ],
   "source": [
    "X_train, X_test, y_train, y_test = train_test_split(X[useful], y, test_size=0.2, random_state=13)\n",
    "#Standardizing\n",
    "\n",
    "model.fit(X_train, y_train)"
   ]
  },
  {
   "cell_type": "code",
   "execution_count": 38,
   "metadata": {},
   "outputs": [],
   "source": [
    "y_pred = model.predict(X_test)\n",
    "MSE = mean_squared_error(y_true=y_test, y_pred=y_pred)\n",
    "r2 = r2_score(y_true=y_test, y_pred=y_pred)\n",
    "MAE = mean_absolute_error(y_true=y_test, y_pred=y_pred)"
   ]
  },
  {
   "cell_type": "code",
   "execution_count": 39,
   "metadata": {},
   "outputs": [
    {
     "data": {
      "text/plain": [
       "654583.8658904966"
      ]
     },
     "execution_count": 39,
     "metadata": {},
     "output_type": "execute_result"
    }
   ],
   "source": [
    "MSE"
   ]
  },
  {
   "cell_type": "code",
   "execution_count": 40,
   "metadata": {},
   "outputs": [
    {
     "data": {
      "text/plain": [
       "558.3107598177269"
      ]
     },
     "execution_count": 40,
     "metadata": {},
     "output_type": "execute_result"
    }
   ],
   "source": [
    "MAE"
   ]
  },
  {
   "cell_type": "code",
   "execution_count": 41,
   "metadata": {},
   "outputs": [
    {
     "data": {
      "text/plain": [
       "0.3503481064931423"
      ]
     },
     "execution_count": 41,
     "metadata": {},
     "output_type": "execute_result"
    }
   ],
   "source": [
    "r2"
   ]
  },
  {
   "cell_type": "markdown",
   "metadata": {},
   "source": [
    "# Linear regression model using all data (not normalized)"
   ]
  },
  {
   "cell_type": "code",
   "execution_count": 43,
   "metadata": {},
   "outputs": [],
   "source": [
    "model = LinearRegression()\n",
    "\n",
    "X_train, X_test, y_train, y_test = train_test_split(X, y, test_size=0.2, random_state=13)\n",
    "\n",
    "model.fit(X_train, y_train)\n",
    "\n",
    "y_pred = model.predict(X_test)\n",
    "MSE = mean_squared_error(y_true=y_test, y_pred=y_pred)\n",
    "r2 = r2_score(y_true=y_test, y_pred=y_pred)\n",
    "MAE = mean_absolute_error(y_true=y_test, y_pred=y_pred)"
   ]
  },
  {
   "cell_type": "code",
   "execution_count": 44,
   "metadata": {},
   "outputs": [
    {
     "data": {
      "text/plain": [
       "649760.5575386242"
      ]
     },
     "execution_count": 44,
     "metadata": {},
     "output_type": "execute_result"
    }
   ],
   "source": [
    "MSE"
   ]
  },
  {
   "cell_type": "code",
   "execution_count": 45,
   "metadata": {},
   "outputs": [
    {
     "data": {
      "text/plain": [
       "555.8217890878578"
      ]
     },
     "execution_count": 45,
     "metadata": {},
     "output_type": "execute_result"
    }
   ],
   "source": [
    "MAE"
   ]
  },
  {
   "cell_type": "code",
   "execution_count": 46,
   "metadata": {},
   "outputs": [
    {
     "data": {
      "text/plain": [
       "0.3551350735527392"
      ]
     },
     "execution_count": 46,
     "metadata": {},
     "output_type": "execute_result"
    }
   ],
   "source": [
    "r2"
   ]
  },
  {
   "cell_type": "markdown",
   "metadata": {},
   "source": [
    "# Linear model with top 10 features"
   ]
  },
  {
   "cell_type": "code",
   "execution_count": 105,
   "metadata": {},
   "outputs": [
    {
     "data": {
      "text/plain": [
       "Index(['Distance', 'No_Of_Orders', 'No_of_Ratings', 'Average_Rating',\n",
       "       'Pickup_weekday_6', 'Pickup_time', 'Pickup_weekday_1',\n",
       "       'Pickup_weekday_5', 'is_business', 'Pickup_weekday_2'],\n",
       "      dtype='object')"
      ]
     },
     "execution_count": 105,
     "metadata": {},
     "output_type": "execute_result"
    }
   ],
   "source": [
    "topx = feature_ranking.index[0:10]\n",
    "topx"
   ]
  },
  {
   "cell_type": "markdown",
   "metadata": {},
   "source": [
    "X_train, X_test, y_train, y_test = train_test_split(X[topx], y, test_size=0.2, random_state=13)\n",
    "\n",
    "model.fit(X_train, y_train)\n",
    "\n",
    "y_pred = model.predict(X_test)\n",
    "MSE = mean_squared_error(y_true=y_test, y_pred=y_pred)\n",
    "r2 = r2_score(y_true=y_test, y_pred=y_pred)\n",
    "MAE = mean_absolute_error(y_true=y_test, y_pred=y_pred)\n",
    "aic = "
   ]
  },
  {
   "cell_type": "code",
   "execution_count": 107,
   "metadata": {},
   "outputs": [
    {
     "data": {
      "text/plain": [
       "648095.8257167783"
      ]
     },
     "execution_count": 107,
     "metadata": {},
     "output_type": "execute_result"
    }
   ],
   "source": [
    "MSE"
   ]
  },
  {
   "cell_type": "code",
   "execution_count": 108,
   "metadata": {},
   "outputs": [
    {
     "data": {
      "text/plain": [
       "554.8573679618002"
      ]
     },
     "execution_count": 108,
     "metadata": {},
     "output_type": "execute_result"
    }
   ],
   "source": [
    "MAE"
   ]
  },
  {
   "cell_type": "code",
   "execution_count": 109,
   "metadata": {},
   "outputs": [
    {
     "data": {
      "text/plain": [
       "0.3567872624266156"
      ]
     },
     "execution_count": 109,
     "metadata": {},
     "output_type": "execute_result"
    }
   ],
   "source": [
    "r2"
   ]
  },
  {
   "cell_type": "code",
   "execution_count": null,
   "metadata": {},
   "outputs": [],
   "source": [
    "#8\n",
    "#9 554.9107\n",
    "#10 554.8573679618002\n",
    "#11\n",
    "#12\n",
    "#15 555.89"
   ]
  },
  {
   "cell_type": "markdown",
   "metadata": {},
   "source": [
    "# PCA"
   ]
  },
  {
   "cell_type": "code",
   "execution_count": null,
   "metadata": {},
   "outputs": [],
   "source": []
  }
 ],
 "metadata": {
  "kernelspec": {
   "display_name": "sendy",
   "language": "python",
   "name": "python3"
  },
  "language_info": {
   "codemirror_mode": {
    "name": "ipython",
    "version": 3
   },
   "file_extension": ".py",
   "mimetype": "text/x-python",
   "name": "python",
   "nbconvert_exporter": "python",
   "pygments_lexer": "ipython3",
   "version": "3.9.17"
  },
  "orig_nbformat": 4
 },
 "nbformat": 4,
 "nbformat_minor": 2
}
