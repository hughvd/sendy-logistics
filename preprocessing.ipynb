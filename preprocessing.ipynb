{
 "cells": [
  {
   "cell_type": "code",
   "execution_count": null,
   "metadata": {},
   "outputs": [],
   "source": [
    "#Import libraries\n",
    "import numpy as np\n",
    "import pandas as pd\n",
    "from ydata_profiling import ProfileReport\n",
    "import missingno as msno\n",
    "from fancyimpute import KNN, IterativeImputer\n",
    "import seaborn as sns"
   ]
  },
  {
   "cell_type": "code",
   "execution_count": null,
   "metadata": {},
   "outputs": [],
   "source": [
    "#Load datasets\n",
    "train = pd.read_csv(\"Train.csv\")\n",
    "test = pd.read_csv(\"Test.csv\")\n",
    "SampleSubmit = pd.read_csv(\"SampleSubmission.csv\")\n",
    "VarDef = pd.read_csv(\"VariableDefinitions.csv\")\n",
    "riders = pd.read_csv(\"Riders.csv\")"
   ]
  },
  {
   "cell_type": "code",
   "execution_count": null,
   "metadata": {},
   "outputs": [],
   "source": [
    "train.head()"
   ]
  },
  {
   "cell_type": "code",
   "execution_count": null,
   "metadata": {},
   "outputs": [],
   "source": [
    "test.head()"
   ]
  },
  {
   "cell_type": "code",
   "execution_count": null,
   "metadata": {},
   "outputs": [],
   "source": [
    "riders.head()"
   ]
  },
  {
   "cell_type": "code",
   "execution_count": null,
   "metadata": {},
   "outputs": [],
   "source": [
    "#Training data including rider information\n",
    "mergedtrain = pd.merge(train, riders, how = \"left\", on = 'Rider Id')"
   ]
  },
  {
   "cell_type": "markdown",
   "metadata": {},
   "source": [
    "## Exploration"
   ]
  },
  {
   "cell_type": "code",
   "execution_count": null,
   "metadata": {},
   "outputs": [],
   "source": [
    "train.head()"
   ]
  },
  {
   "cell_type": "code",
   "execution_count": null,
   "metadata": {},
   "outputs": [],
   "source": [
    "train.dtypes"
   ]
  },
  {
   "cell_type": "code",
   "execution_count": null,
   "metadata": {},
   "outputs": [],
   "source": [
    "useless = [\"Order No\", \"User Id\", \"Vehicle Type\", \"Placement - Day of Month\", \"Placement - Weekday (Mo = 1)\", \n",
    "           \"Placement - Time\", 'Confirmation - Day of Month','Confirmation - Weekday (Mo = 1)', 'Confirmation - Time',\n",
    "           'Arrival at Pickup - Day of Month', 'Arrival at Pickup - Weekday (Mo = 1)', 'Arrival at Pickup - Time',\n",
    "           'Pickup - Day of Month', 'Arrival at Destination - Day of Month', 'Arrival at Destination - Weekday (Mo = 1)', \n",
    "           'Arrival at Destination - Time', 'Precipitation in millimeters', 'Pickup Lat', 'Pickup Long', 'Destination Lat',\n",
    "             'Destination Long'\n",
    "           ]"
   ]
  },
  {
   "cell_type": "code",
   "execution_count": null,
   "metadata": {},
   "outputs": [],
   "source": [
    "sns.relplot(data=train, x=\"Placement - Weekday (Mo = 1)\",y=\"Time from Pickup to Arrival\")"
   ]
  },
  {
   "cell_type": "code",
   "execution_count": null,
   "metadata": {},
   "outputs": [],
   "source": [
    "sns.relplot(data=train, x=\"Platform Type\",y=\"Time from Pickup to Arrival\")"
   ]
  },
  {
   "cell_type": "code",
   "execution_count": null,
   "metadata": {},
   "outputs": [],
   "source": [
    "sns.catplot(data=train, x=\"Personal or Business\",y=\"Time from Pickup to Arrival\")"
   ]
  },
  {
   "cell_type": "code",
   "execution_count": null,
   "metadata": {},
   "outputs": [],
   "source": [
    "##Do some pairplots\n",
    "sns.relplot(data=mergedtrain, x=\"Average_Rating\", y=\"Time from Pickup to Arrival\")"
   ]
  },
  {
   "cell_type": "code",
   "execution_count": null,
   "metadata": {},
   "outputs": [],
   "source": [
    "clean = pd.read_pickle('clean_training')"
   ]
  },
  {
   "cell_type": "code",
   "execution_count": null,
   "metadata": {},
   "outputs": [],
   "source": [
    "#convert time to seconds since midnight\n",
    "def settime(time):\n",
    "    split = time.split(':')\n",
    "    tempsplit = split[2].split(' ')\n",
    "    if int(split[0]) != 12:\n",
    "        seconds = int(split[0])*3600 + int(split[1])*60 + int(tempsplit[0])\n",
    "    elif tempsplit[1] == 'PM' and int(split[0]) == 12:\n",
    "        seconds = int(split[0])*3600 + int(split[1])*60 + int(tempsplit[0])\n",
    "    else:\n",
    "        seconds = int(split[1])*60 + int(tempsplit[0])\n",
    "    if tempsplit[1] == 'PM' and int(split[0]) != 12:\n",
    "        seconds += 43200\n",
    "    return seconds"
   ]
  },
  {
   "cell_type": "code",
   "execution_count": null,
   "metadata": {},
   "outputs": [],
   "source": [
    "\n",
    "clean['Pickup_time'] = clean[\"Pickup_time\"].apply(settime)\n",
    "\n",
    "sns.scatterplot(data = clean.sort_values(by = 'Pickup_time'), x = \"Pickup_time\", y = \"Travel_time\")"
   ]
  },
  {
   "cell_type": "code",
   "execution_count": null,
   "metadata": {},
   "outputs": [],
   "source": [
    "clean.head()"
   ]
  },
  {
   "cell_type": "code",
   "execution_count": null,
   "metadata": {},
   "outputs": [],
   "source": [
    "clean.to_pickle('clean_training.pkl')"
   ]
  },
  {
   "cell_type": "markdown",
   "metadata": {},
   "source": [
    "## Cleaning"
   ]
  },
  {
   "cell_type": "code",
   "execution_count": null,
   "metadata": {},
   "outputs": [],
   "source": [
    "train.isnull().sum()"
   ]
  },
  {
   "cell_type": "code",
   "execution_count": null,
   "metadata": {},
   "outputs": [],
   "source": [
    "train.isnull().sum()  /  train.shape[0]"
   ]
  },
  {
   "cell_type": "code",
   "execution_count": null,
   "metadata": {},
   "outputs": [],
   "source": [
    "#Precipitation is mostly empty, so we drop it\n",
    "mergedtrain = mergedtrain.drop(columns=useless)"
   ]
  },
  {
   "cell_type": "code",
   "execution_count": null,
   "metadata": {},
   "outputs": [],
   "source": [
    "mergedtrain.head()"
   ]
  },
  {
   "cell_type": "code",
   "execution_count": null,
   "metadata": {},
   "outputs": [],
   "source": [
    "mergedtrain.dtypes"
   ]
  },
  {
   "cell_type": "code",
   "execution_count": null,
   "metadata": {},
   "outputs": [],
   "source": [
    "mergedtrain = mergedtrain.reindex(columns=[\"Rider Id\", \"No_Of_Orders\", 'Age',\"Average_Rating\",\"No_of_Ratings\", \"Platform Type\",\n",
    "                                           \"Personal or Business\",\"Pickup - Weekday (Mo = 1)\",\n",
    "                                           \"Pickup - Time\",\"Distance (KM)\",\"Temperature\",\"Time from Pickup to Arrival\"])"
   ]
  },
  {
   "cell_type": "code",
   "execution_count": null,
   "metadata": {},
   "outputs": [],
   "source": [
    "mergedtrain.head()"
   ]
  },
  {
   "cell_type": "code",
   "execution_count": null,
   "metadata": {},
   "outputs": [],
   "source": [
    "impute = mergedtrain[\"Temperature\"]"
   ]
  },
  {
   "cell_type": "code",
   "execution_count": null,
   "metadata": {},
   "outputs": [],
   "source": [
    "#Changes were lost but clean pickle was made"
   ]
  }
 ],
 "metadata": {
  "kernelspec": {
   "display_name": "ML",
   "language": "python",
   "name": "python3"
  },
  "language_info": {
   "codemirror_mode": {
    "name": "ipython",
    "version": 3
   },
   "file_extension": ".py",
   "mimetype": "text/x-python",
   "name": "python",
   "nbconvert_exporter": "python",
   "pygments_lexer": "ipython3",
   "version": "3.9.17"
  },
  "orig_nbformat": 4
 },
 "nbformat": 4,
 "nbformat_minor": 2
}
